{
 "cells": [
  {
   "cell_type": "code",
   "execution_count": 1,
   "metadata": {},
   "outputs": [],
   "source": [
    "# importing of libraries\n",
    "import warnings\n",
    "warnings.filterwarnings('ignore')\n",
    "import pandas as pd\n",
    "import numpy as np\n",
    "import matplotlib.pyplot as plt\n",
    "%matplotlib inline\n",
    "import seaborn as sns"
   ]
  },
  {
   "cell_type": "code",
   "execution_count": 2,
   "metadata": {},
   "outputs": [],
   "source": [
    "# loading of data\n",
    "data = pd.read_excel('data_LS.xlsx')"
   ]
  },
  {
   "cell_type": "code",
   "execution_count": 6,
   "metadata": {},
   "outputs": [],
   "source": [
    "pd.set_option('display.max_columns',None)\n",
    "pd.set_option('display.max_rows',None)"
   ]
  },
  {
   "cell_type": "markdown",
   "metadata": {},
   "source": [
    "## Basic Checks"
   ]
  },
  {
   "cell_type": "code",
   "execution_count": 4,
   "metadata": {},
   "outputs": [
    {
     "data": {
      "text/html": [
       "<div>\n",
       "<style scoped>\n",
       "    .dataframe tbody tr th:only-of-type {\n",
       "        vertical-align: middle;\n",
       "    }\n",
       "\n",
       "    .dataframe tbody tr th {\n",
       "        vertical-align: top;\n",
       "    }\n",
       "\n",
       "    .dataframe thead th {\n",
       "        text-align: right;\n",
       "    }\n",
       "</style>\n",
       "<table border=\"1\" class=\"dataframe\">\n",
       "  <thead>\n",
       "    <tr style=\"text-align: right;\">\n",
       "      <th></th>\n",
       "      <th>State</th>\n",
       "      <th>Year</th>\n",
       "      <th>Literacy (M)</th>\n",
       "      <th>Literacy (F)</th>\n",
       "      <th>Literacy (Average)</th>\n",
       "      <th>Sex Ratio (Urban)</th>\n",
       "      <th>Sex Ratio (Rural)</th>\n",
       "    </tr>\n",
       "  </thead>\n",
       "  <tbody>\n",
       "    <tr>\n",
       "      <th>0</th>\n",
       "      <td>Jammu and Kashmir</td>\n",
       "      <td>2019</td>\n",
       "      <td>76.8</td>\n",
       "      <td>56.4</td>\n",
       "      <td>66.60</td>\n",
       "      <td>840</td>\n",
       "      <td>908</td>\n",
       "    </tr>\n",
       "    <tr>\n",
       "      <th>1</th>\n",
       "      <td>Himachal Pradesh</td>\n",
       "      <td>2019</td>\n",
       "      <td>89.5</td>\n",
       "      <td>75.9</td>\n",
       "      <td>82.70</td>\n",
       "      <td>853</td>\n",
       "      <td>986</td>\n",
       "    </tr>\n",
       "    <tr>\n",
       "      <th>2</th>\n",
       "      <td>Punjab</td>\n",
       "      <td>2019</td>\n",
       "      <td>80.4</td>\n",
       "      <td>70.7</td>\n",
       "      <td>75.55</td>\n",
       "      <td>875</td>\n",
       "      <td>907</td>\n",
       "    </tr>\n",
       "    <tr>\n",
       "      <th>3</th>\n",
       "      <td>Chandigarh</td>\n",
       "      <td>2019</td>\n",
       "      <td>80.3</td>\n",
       "      <td>60.2</td>\n",
       "      <td>70.25</td>\n",
       "      <td>956</td>\n",
       "      <td>1001</td>\n",
       "    </tr>\n",
       "    <tr>\n",
       "      <th>4</th>\n",
       "      <td>Uttarakhand</td>\n",
       "      <td>2019</td>\n",
       "      <td>87.4</td>\n",
       "      <td>70.1</td>\n",
       "      <td>78.75</td>\n",
       "      <td>884</td>\n",
       "      <td>1000</td>\n",
       "    </tr>\n",
       "  </tbody>\n",
       "</table>\n",
       "</div>"
      ],
      "text/plain": [
       "               State  Year  Literacy (M)  Literacy (F)  Literacy (Average)  \\\n",
       "0  Jammu and Kashmir  2019          76.8          56.4               66.60   \n",
       "1   Himachal Pradesh  2019          89.5          75.9               82.70   \n",
       "2             Punjab  2019          80.4          70.7               75.55   \n",
       "3         Chandigarh  2019          80.3          60.2               70.25   \n",
       "4        Uttarakhand  2019          87.4          70.1               78.75   \n",
       "\n",
       "   Sex Ratio (Urban)  Sex Ratio (Rural)  \n",
       "0                840                908  \n",
       "1                853                986  \n",
       "2                875                907  \n",
       "3                956               1001  \n",
       "4                884               1000  "
      ]
     },
     "execution_count": 4,
     "metadata": {},
     "output_type": "execute_result"
    }
   ],
   "source": [
    "# prints first 5 rows of the data\n",
    "data.head()"
   ]
  },
  {
   "cell_type": "code",
   "execution_count": 5,
   "metadata": {},
   "outputs": [
    {
     "data": {
      "text/html": [
       "<div>\n",
       "<style scoped>\n",
       "    .dataframe tbody tr th:only-of-type {\n",
       "        vertical-align: middle;\n",
       "    }\n",
       "\n",
       "    .dataframe tbody tr th {\n",
       "        vertical-align: top;\n",
       "    }\n",
       "\n",
       "    .dataframe thead th {\n",
       "        text-align: right;\n",
       "    }\n",
       "</style>\n",
       "<table border=\"1\" class=\"dataframe\">\n",
       "  <thead>\n",
       "    <tr style=\"text-align: right;\">\n",
       "      <th></th>\n",
       "      <th>State</th>\n",
       "      <th>Year</th>\n",
       "      <th>Literacy (M)</th>\n",
       "      <th>Literacy (F)</th>\n",
       "      <th>Literacy (Average)</th>\n",
       "      <th>Sex Ratio (Urban)</th>\n",
       "      <th>Sex Ratio (Rural)</th>\n",
       "    </tr>\n",
       "  </thead>\n",
       "  <tbody>\n",
       "    <tr>\n",
       "      <th>106</th>\n",
       "      <td>Puducherry</td>\n",
       "      <td>2021</td>\n",
       "      <td>92.1</td>\n",
       "      <td>81.7</td>\n",
       "      <td>86.90</td>\n",
       "      <td>1040</td>\n",
       "      <td>1051</td>\n",
       "    </tr>\n",
       "    <tr>\n",
       "      <th>107</th>\n",
       "      <td>Andaman and Nicobar Islands</td>\n",
       "      <td>2021</td>\n",
       "      <td>91.1</td>\n",
       "      <td>83.1</td>\n",
       "      <td>87.10</td>\n",
       "      <td>883</td>\n",
       "      <td>902</td>\n",
       "    </tr>\n",
       "    <tr>\n",
       "      <th>108</th>\n",
       "      <td>Telangana</td>\n",
       "      <td>2021</td>\n",
       "      <td>77.1</td>\n",
       "      <td>62.4</td>\n",
       "      <td>69.75</td>\n",
       "      <td>997</td>\n",
       "      <td>939</td>\n",
       "    </tr>\n",
       "    <tr>\n",
       "      <th>109</th>\n",
       "      <td>Andhra Pradesh</td>\n",
       "      <td>2021</td>\n",
       "      <td>75.8</td>\n",
       "      <td>60.2</td>\n",
       "      <td>68.00</td>\n",
       "      <td>990</td>\n",
       "      <td>996</td>\n",
       "    </tr>\n",
       "    <tr>\n",
       "      <th>110</th>\n",
       "      <td>Ladakh</td>\n",
       "      <td>2021</td>\n",
       "      <td>86.7</td>\n",
       "      <td>70.6</td>\n",
       "      <td>78.65</td>\n",
       "      <td>971</td>\n",
       "      <td>990</td>\n",
       "    </tr>\n",
       "  </tbody>\n",
       "</table>\n",
       "</div>"
      ],
      "text/plain": [
       "                           State  Year  Literacy (M)  Literacy (F)  \\\n",
       "106                   Puducherry  2021          92.1          81.7   \n",
       "107  Andaman and Nicobar Islands  2021          91.1          83.1   \n",
       "108                    Telangana  2021          77.1          62.4   \n",
       "109               Andhra Pradesh  2021          75.8          60.2   \n",
       "110                       Ladakh  2021          86.7          70.6   \n",
       "\n",
       "     Literacy (Average)  Sex Ratio (Urban)  Sex Ratio (Rural)  \n",
       "106               86.90               1040               1051  \n",
       "107               87.10                883                902  \n",
       "108               69.75                997                939  \n",
       "109               68.00                990                996  \n",
       "110               78.65                971                990  "
      ]
     },
     "execution_count": 5,
     "metadata": {},
     "output_type": "execute_result"
    }
   ],
   "source": [
    "# prints last5 rows of the data\n",
    "data.tail()"
   ]
  },
  {
   "cell_type": "code",
   "execution_count": 6,
   "metadata": {},
   "outputs": [
    {
     "data": {
      "text/html": [
       "<div>\n",
       "<style scoped>\n",
       "    .dataframe tbody tr th:only-of-type {\n",
       "        vertical-align: middle;\n",
       "    }\n",
       "\n",
       "    .dataframe tbody tr th {\n",
       "        vertical-align: top;\n",
       "    }\n",
       "\n",
       "    .dataframe thead th {\n",
       "        text-align: right;\n",
       "    }\n",
       "</style>\n",
       "<table border=\"1\" class=\"dataframe\">\n",
       "  <thead>\n",
       "    <tr style=\"text-align: right;\">\n",
       "      <th></th>\n",
       "      <th>Year</th>\n",
       "      <th>Literacy (M)</th>\n",
       "      <th>Literacy (F)</th>\n",
       "      <th>Literacy (Average)</th>\n",
       "      <th>Sex Ratio (Urban)</th>\n",
       "      <th>Sex Ratio (Rural)</th>\n",
       "    </tr>\n",
       "  </thead>\n",
       "  <tbody>\n",
       "    <tr>\n",
       "      <th>count</th>\n",
       "      <td>111.0000</td>\n",
       "      <td>111.000000</td>\n",
       "      <td>111.000000</td>\n",
       "      <td>111.000000</td>\n",
       "      <td>111.000000</td>\n",
       "      <td>111.000000</td>\n",
       "    </tr>\n",
       "    <tr>\n",
       "      <th>mean</th>\n",
       "      <td>2020.0000</td>\n",
       "      <td>84.168468</td>\n",
       "      <td>70.303604</td>\n",
       "      <td>77.236036</td>\n",
       "      <td>934.351351</td>\n",
       "      <td>940.729730</td>\n",
       "    </tr>\n",
       "    <tr>\n",
       "      <th>std</th>\n",
       "      <td>0.8202</td>\n",
       "      <td>6.603140</td>\n",
       "      <td>10.716240</td>\n",
       "      <td>8.460929</td>\n",
       "      <td>57.156189</td>\n",
       "      <td>89.229219</td>\n",
       "    </tr>\n",
       "    <tr>\n",
       "      <th>min</th>\n",
       "      <td>2019.0000</td>\n",
       "      <td>71.200000</td>\n",
       "      <td>51.500000</td>\n",
       "      <td>61.350000</td>\n",
       "      <td>840.000000</td>\n",
       "      <td>550.000000</td>\n",
       "    </tr>\n",
       "    <tr>\n",
       "      <th>25%</th>\n",
       "      <td>2019.0000</td>\n",
       "      <td>78.550000</td>\n",
       "      <td>60.700000</td>\n",
       "      <td>70.000000</td>\n",
       "      <td>887.500000</td>\n",
       "      <td>921.000000</td>\n",
       "    </tr>\n",
       "    <tr>\n",
       "      <th>50%</th>\n",
       "      <td>2020.0000</td>\n",
       "      <td>83.600000</td>\n",
       "      <td>70.500000</td>\n",
       "      <td>76.250000</td>\n",
       "      <td>920.000000</td>\n",
       "      <td>955.000000</td>\n",
       "    </tr>\n",
       "    <tr>\n",
       "      <th>75%</th>\n",
       "      <td>2021.0000</td>\n",
       "      <td>90.200000</td>\n",
       "      <td>76.900000</td>\n",
       "      <td>83.475000</td>\n",
       "      <td>969.000000</td>\n",
       "      <td>988.000000</td>\n",
       "    </tr>\n",
       "    <tr>\n",
       "      <th>max</th>\n",
       "      <td>2021.0000</td>\n",
       "      <td>96.900000</td>\n",
       "      <td>92.600000</td>\n",
       "      <td>94.750000</td>\n",
       "      <td>1091.000000</td>\n",
       "      <td>1079.000000</td>\n",
       "    </tr>\n",
       "  </tbody>\n",
       "</table>\n",
       "</div>"
      ],
      "text/plain": [
       "            Year  Literacy (M)  Literacy (F)  Literacy (Average)  \\\n",
       "count   111.0000    111.000000    111.000000          111.000000   \n",
       "mean   2020.0000     84.168468     70.303604           77.236036   \n",
       "std       0.8202      6.603140     10.716240            8.460929   \n",
       "min    2019.0000     71.200000     51.500000           61.350000   \n",
       "25%    2019.0000     78.550000     60.700000           70.000000   \n",
       "50%    2020.0000     83.600000     70.500000           76.250000   \n",
       "75%    2021.0000     90.200000     76.900000           83.475000   \n",
       "max    2021.0000     96.900000     92.600000           94.750000   \n",
       "\n",
       "       Sex Ratio (Urban)  Sex Ratio (Rural)  \n",
       "count         111.000000         111.000000  \n",
       "mean          934.351351         940.729730  \n",
       "std            57.156189          89.229219  \n",
       "min           840.000000         550.000000  \n",
       "25%           887.500000         921.000000  \n",
       "50%           920.000000         955.000000  \n",
       "75%           969.000000         988.000000  \n",
       "max          1091.000000        1079.000000  "
      ]
     },
     "execution_count": 6,
     "metadata": {},
     "output_type": "execute_result"
    }
   ],
   "source": [
    "# used to view some basic statistical details like percentile, mean, std etc\n",
    "data.describe()"
   ]
  },
  {
   "cell_type": "code",
   "execution_count": 7,
   "metadata": {
    "scrolled": true
   },
   "outputs": [
    {
     "name": "stdout",
     "output_type": "stream",
     "text": [
      "<class 'pandas.core.frame.DataFrame'>\n",
      "RangeIndex: 111 entries, 0 to 110\n",
      "Data columns (total 7 columns):\n",
      " #   Column              Non-Null Count  Dtype  \n",
      "---  ------              --------------  -----  \n",
      " 0   State               111 non-null    object \n",
      " 1   Year                111 non-null    int64  \n",
      " 2   Literacy (M)        111 non-null    float64\n",
      " 3   Literacy (F)        111 non-null    float64\n",
      " 4   Literacy (Average)  111 non-null    float64\n",
      " 5   Sex Ratio (Urban)   111 non-null    int64  \n",
      " 6   Sex Ratio (Rural)   111 non-null    int64  \n",
      "dtypes: float64(3), int64(3), object(1)\n",
      "memory usage: 6.2+ KB\n"
     ]
    }
   ],
   "source": [
    "# to print a concise summary of a DataFrame. This method prints information about a DataFrame including the index dtype and column dtypes, non-null values and memory usage.\n",
    "data.info()"
   ]
  },
  {
   "cell_type": "code",
   "execution_count": 8,
   "metadata": {},
   "outputs": [
    {
     "data": {
      "text/plain": [
       "(111, 7)"
      ]
     },
     "execution_count": 8,
     "metadata": {},
     "output_type": "execute_result"
    }
   ],
   "source": [
    "# it shows the number columns and rows that data consists\n",
    "data.shape"
   ]
  },
  {
   "cell_type": "code",
   "execution_count": 9,
   "metadata": {},
   "outputs": [
    {
     "data": {
      "text/plain": [
       "Index(['State', 'Year', 'Literacy (M)', 'Literacy (F)', 'Literacy (Average)',\n",
       "       'Sex Ratio (Urban)', 'Sex Ratio (Rural)'],\n",
       "      dtype='object')"
      ]
     },
     "execution_count": 9,
     "metadata": {},
     "output_type": "execute_result"
    }
   ],
   "source": [
    "# displays all the columns\n",
    "data.columns"
   ]
  },
  {
   "cell_type": "markdown",
   "metadata": {},
   "source": [
    "## Data Preprocessing"
   ]
  },
  {
   "cell_type": "code",
   "execution_count": 3,
   "metadata": {},
   "outputs": [],
   "source": [
    "# These are the new columns\n",
    "## the columns from the original can be renamed at our convinience\n",
    "data=data.rename(columns={'Sex Ratio (Urban)':'Sex_Ratio_Urban', \n",
    "                          'Sex Ratio (Rural)':'Sex_Ratio_Rural',\n",
    "                          'Literacy (M)':'Literacy_M',\n",
    "                          'Literacy (F)':'Literacy_F',\n",
    "                          'Literacy (Average)':'Literacy_Average'\n",
    "                         })"
   ]
  },
  {
   "cell_type": "code",
   "execution_count": 11,
   "metadata": {},
   "outputs": [
    {
     "data": {
      "text/plain": [
       "Index(['State', 'Year', 'Literacy_M', 'Literacy_F', 'Literacy_Average',\n",
       "       'Sex_Ratio_Urban', 'Sex_Ratio_Rural'],\n",
       "      dtype='object')"
      ]
     },
     "execution_count": 11,
     "metadata": {},
     "output_type": "execute_result"
    }
   ],
   "source": [
    "data.columns"
   ]
  },
  {
   "cell_type": "code",
   "execution_count": 12,
   "metadata": {},
   "outputs": [
    {
     "data": {
      "text/plain": [
       "False"
      ]
     },
     "execution_count": 12,
     "metadata": {},
     "output_type": "execute_result"
    }
   ],
   "source": [
    "#checking null values\n",
    "data.isnull().values.any()"
   ]
  },
  {
   "cell_type": "code",
   "execution_count": 13,
   "metadata": {
    "scrolled": true
   },
   "outputs": [
    {
     "data": {
      "text/plain": [
       "State               0\n",
       "Year                0\n",
       "Literacy_M          0\n",
       "Literacy_F          0\n",
       "Literacy_Average    0\n",
       "Sex_Ratio_Urban     0\n",
       "Sex_Ratio_Rural     0\n",
       "dtype: int64"
      ]
     },
     "execution_count": 13,
     "metadata": {},
     "output_type": "execute_result"
    }
   ],
   "source": [
    "data.isnull().sum()"
   ]
  },
  {
   "cell_type": "code",
   "execution_count": 14,
   "metadata": {
    "scrolled": true
   },
   "outputs": [
    {
     "data": {
      "text/plain": [
       "State               False\n",
       "Year                False\n",
       "Literacy_M          False\n",
       "Literacy_F          False\n",
       "Literacy_Average    False\n",
       "Sex_Ratio_Urban     False\n",
       "Sex_Ratio_Rural     False\n",
       "dtype: bool"
      ]
     },
     "execution_count": 14,
     "metadata": {},
     "output_type": "execute_result"
    }
   ],
   "source": [
    "data.isna().any()"
   ]
  },
  {
   "cell_type": "markdown",
   "metadata": {},
   "source": [
    "### Value count and unique in columns"
   ]
  },
  {
   "cell_type": "code",
   "execution_count": 15,
   "metadata": {},
   "outputs": [
    {
     "data": {
      "text/plain": [
       "Index(['State', 'Year', 'Literacy_M', 'Literacy_F', 'Literacy_Average',\n",
       "       'Sex_Ratio_Urban', 'Sex_Ratio_Rural'],\n",
       "      dtype='object')"
      ]
     },
     "execution_count": 15,
     "metadata": {},
     "output_type": "execute_result"
    }
   ],
   "source": [
    "data.columns"
   ]
  },
  {
   "cell_type": "code",
   "execution_count": 16,
   "metadata": {},
   "outputs": [
    {
     "data": {
      "text/plain": [
       "Madhya Pradesh                 3\n",
       "Uttarakhand                    3\n",
       "Nagaland                       3\n",
       "Manipur                        3\n",
       "Andaman and Nicobar Islands    3\n",
       "Chhattisgarh                   3\n",
       "Gujarat                        3\n",
       "Assam                          3\n",
       "Maharashtra                    3\n",
       "Punjab                         3\n",
       "Tripura                        3\n",
       "Andhra Pradesh                 3\n",
       "Mizoram                        3\n",
       "Kerala                         3\n",
       "Arunachal Pradesh              3\n",
       "Puducherry                     3\n",
       "Telangana                      3\n",
       "Tamil Nadu                     3\n",
       "Sikkim                         3\n",
       "Bihar                          3\n",
       "Karnataka                      3\n",
       "Dadra and Nagar Haveli         3\n",
       "Uttar Pradesh                  3\n",
       "Meghalaya                      3\n",
       "Delhi                          3\n",
       "Chandigarh                     3\n",
       "Himachal Pradesh               3\n",
       "Goa                            3\n",
       "Haryana                        3\n",
       "Odisha                         3\n",
       "Jharkhand                      3\n",
       "Rajasthan                      3\n",
       "Lakshadweep                    3\n",
       "Daman and Diu                  3\n",
       "West Bengal                    3\n",
       "Jammu and Kashmir              3\n",
       "Ladakh                         3\n",
       "Name: State, dtype: int64"
      ]
     },
     "execution_count": 16,
     "metadata": {},
     "output_type": "execute_result"
    }
   ],
   "source": [
    "data.State.value_counts()"
   ]
  },
  {
   "cell_type": "code",
   "execution_count": 17,
   "metadata": {},
   "outputs": [
    {
     "data": {
      "text/plain": [
       "array(['Jammu and Kashmir', 'Himachal Pradesh', 'Punjab', 'Chandigarh',\n",
       "       'Uttarakhand', 'Haryana', 'Delhi', 'Rajasthan', 'Uttar Pradesh',\n",
       "       'Bihar', 'Sikkim', 'Arunachal Pradesh', 'Nagaland', 'Manipur',\n",
       "       'Mizoram', 'Tripura', 'Meghalaya', 'Assam', 'West Bengal',\n",
       "       'Jharkhand', 'Odisha', 'Chhattisgarh', 'Madhya Pradesh', 'Gujarat',\n",
       "       'Daman and Diu', 'Dadra and Nagar Haveli', 'Maharashtra',\n",
       "       'Karnataka', 'Goa', 'Lakshadweep', 'Kerala', 'Tamil Nadu',\n",
       "       'Puducherry', 'Andaman and Nicobar Islands', 'Telangana',\n",
       "       'Andhra Pradesh', 'Ladakh'], dtype=object)"
      ]
     },
     "execution_count": 17,
     "metadata": {},
     "output_type": "execute_result"
    }
   ],
   "source": [
    "data.State.unique()"
   ]
  },
  {
   "cell_type": "code",
   "execution_count": 18,
   "metadata": {},
   "outputs": [
    {
     "data": {
      "text/plain": [
       "2019    37\n",
       "2020    37\n",
       "2021    37\n",
       "Name: Year, dtype: int64"
      ]
     },
     "execution_count": 18,
     "metadata": {},
     "output_type": "execute_result"
    }
   ],
   "source": [
    "data.Year.value_counts()"
   ]
  },
  {
   "cell_type": "code",
   "execution_count": 19,
   "metadata": {},
   "outputs": [
    {
     "data": {
      "text/plain": [
       "array([2019, 2020, 2021], dtype=int64)"
      ]
     },
     "execution_count": 19,
     "metadata": {},
     "output_type": "execute_result"
    }
   ],
   "source": [
    "data.Year.unique()"
   ]
  },
  {
   "cell_type": "code",
   "execution_count": 20,
   "metadata": {},
   "outputs": [
    {
     "data": {
      "text/plain": [
       "80.3    2\n",
       "92.1    2\n",
       "80.9    2\n",
       "76.7    2\n",
       "82.8    2\n",
       "80.6    2\n",
       "85.7    2\n",
       "91.5    2\n",
       "91.8    2\n",
       "76.8    2\n",
       "86.1    2\n",
       "77.7    2\n",
       "84.3    1\n",
       "82.3    1\n",
       "83.6    1\n",
       "82.4    1\n",
       "96.2    1\n",
       "83.3    1\n",
       "85.2    1\n",
       "78.1    1\n",
       "88.4    1\n",
       "91.4    1\n",
       "84.8    1\n",
       "81.9    1\n",
       "86.4    1\n",
       "93.7    1\n",
       "77.1    1\n",
       "93.3    1\n",
       "90.9    1\n",
       "90.1    1\n",
       "86.7    1\n",
       "88.2    1\n",
       "95.6    1\n",
       "73.2    1\n",
       "76.1    1\n",
       "81.6    1\n",
       "76.4    1\n",
       "83.1    1\n",
       "83.9    1\n",
       "91.1    1\n",
       "86.6    1\n",
       "86.8    1\n",
       "92.7    1\n",
       "84.5    1\n",
       "96.1    1\n",
       "78.2    1\n",
       "88.8    1\n",
       "81.2    1\n",
       "89.2    1\n",
       "72.0    1\n",
       "71.2    1\n",
       "80.8    1\n",
       "76.3    1\n",
       "78.7    1\n",
       "93.2    1\n",
       "79.3    1\n",
       "83.5    1\n",
       "80.4    1\n",
       "78.4    1\n",
       "90.3    1\n",
       "92.9    1\n",
       "91.3    1\n",
       "74.9    1\n",
       "75.4    1\n",
       "82.0    1\n",
       "90.4    1\n",
       "87.2    1\n",
       "79.1    1\n",
       "77.8    1\n",
       "89.5    1\n",
       "77.4    1\n",
       "77.0    1\n",
       "96.8    1\n",
       "92.6    1\n",
       "79.8    1\n",
       "72.9    1\n",
       "86.2    1\n",
       "87.5    1\n",
       "75.8    1\n",
       "77.3    1\n",
       "79.5    1\n",
       "72.6    1\n",
       "94.1    1\n",
       "81.7    1\n",
       "71.7    1\n",
       "79.2    1\n",
       "84.1    1\n",
       "82.5    1\n",
       "77.5    1\n",
       "96.9    1\n",
       "86.9    1\n",
       "90.7    1\n",
       "87.1    1\n",
       "92.2    1\n",
       "77.2    1\n",
       "96.6    1\n",
       "87.4    1\n",
       "85.8    1\n",
       "91.7    1\n",
       "Name: Literacy_M, dtype: int64"
      ]
     },
     "execution_count": 20,
     "metadata": {},
     "output_type": "execute_result"
    }
   ],
   "source": [
    "data.Literacy_M.value_counts()"
   ]
  },
  {
   "cell_type": "code",
   "execution_count": 21,
   "metadata": {
    "collapsed": true
   },
   "outputs": [
    {
     "data": {
      "text/plain": [
       "60.2    4\n",
       "75.9    3\n",
       "70.1    3\n",
       "70.7    3\n",
       "52.1    2\n",
       "80.7    2\n",
       "61.1    2\n",
       "76.9    2\n",
       "76.6    2\n",
       "82.7    2\n",
       "70.5    2\n",
       "71.3    2\n",
       "71.0    2\n",
       "57.6    2\n",
       "60.7    2\n",
       "73.4    2\n",
       "55.4    1\n",
       "59.2    1\n",
       "92.6    1\n",
       "87.9    1\n",
       "68.8    1\n",
       "56.7    1\n",
       "89.3    1\n",
       "74.1    1\n",
       "92.4    1\n",
       "64.9    1\n",
       "73.6    1\n",
       "81.8    1\n",
       "70.6    1\n",
       "62.4    1\n",
       "80.8    1\n",
       "85.5    1\n",
       "64.5    1\n",
       "83.1    1\n",
       "67.2    1\n",
       "56.1    1\n",
       "81.7    1\n",
       "76.1    1\n",
       "64.0    1\n",
       "76.2    1\n",
       "66.5    1\n",
       "85.1    1\n",
       "73.1    1\n",
       "81.3    1\n",
       "80.1    1\n",
       "65.7    1\n",
       "59.1    1\n",
       "76.3    1\n",
       "90.0    1\n",
       "79.5    1\n",
       "68.1    1\n",
       "55.7    1\n",
       "68.5    1\n",
       "57.0    1\n",
       "65.9    1\n",
       "83.5    1\n",
       "81.2    1\n",
       "56.4    1\n",
       "69.7    1\n",
       "75.6    1\n",
       "70.3    1\n",
       "52.4    1\n",
       "58.5    1\n",
       "72.9    1\n",
       "51.5    1\n",
       "66.2    1\n",
       "76.5    1\n",
       "59.8    1\n",
       "61.7    1\n",
       "52.6    1\n",
       "69.6    1\n",
       "53.0    1\n",
       "65.1    1\n",
       "88.8    1\n",
       "57.2    1\n",
       "88.2    1\n",
       "92.1    1\n",
       "89.7    1\n",
       "83.2    1\n",
       "62.0    1\n",
       "66.8    1\n",
       "66.3    1\n",
       "58.1    1\n",
       "57.7    1\n",
       "59.9    1\n",
       "84.7    1\n",
       "82.4    1\n",
       "70.9    1\n",
       "64.3    1\n",
       "58.0    1\n",
       "Name: Literacy_F, dtype: int64"
      ]
     },
     "execution_count": 21,
     "metadata": {},
     "output_type": "execute_result"
    }
   ],
   "source": [
    "data.Literacy_F.value_counts()"
   ]
  },
  {
   "cell_type": "code",
   "execution_count": 22,
   "metadata": {
    "collapsed": true
   },
   "outputs": [
    {
     "data": {
      "text/plain": [
       "67.65    3\n",
       "71.00    2\n",
       "69.75    2\n",
       "70.65    2\n",
       "74.75    2\n",
       "67.25    2\n",
       "78.10    2\n",
       "86.70    2\n",
       "75.65    2\n",
       "77.65    2\n",
       "87.10    2\n",
       "70.25    2\n",
       "80.10    2\n",
       "86.35    2\n",
       "66.60    1\n",
       "80.80    1\n",
       "66.40    1\n",
       "73.60    1\n",
       "75.55    1\n",
       "69.35    1\n",
       "68.95    1\n",
       "65.65    1\n",
       "62.20    1\n",
       "76.25    1\n",
       "75.00    1\n",
       "86.00    1\n",
       "67.00    1\n",
       "75.05    1\n",
       "61.35    1\n",
       "76.95    1\n",
       "81.40    1\n",
       "76.85    1\n",
       "68.10    1\n",
       "86.10    1\n",
       "69.45    1\n",
       "66.05    1\n",
       "74.50    1\n",
       "92.20    1\n",
       "72.80    1\n",
       "80.05    1\n",
       "75.95    1\n",
       "65.15    1\n",
       "65.85    1\n",
       "66.75    1\n",
       "92.05    1\n",
       "86.80    1\n",
       "81.75    1\n",
       "88.65    1\n",
       "68.00    1\n",
       "89.35    1\n",
       "76.45    1\n",
       "87.85    1\n",
       "61.90    1\n",
       "87.50    1\n",
       "89.00    1\n",
       "66.10    1\n",
       "91.30    1\n",
       "86.90    1\n",
       "72.05    1\n",
       "73.20    1\n",
       "82.15    1\n",
       "81.10    1\n",
       "86.45    1\n",
       "72.80    1\n",
       "94.75    1\n",
       "77.75    1\n",
       "83.65    1\n",
       "66.95    1\n",
       "94.10    1\n",
       "65.50    1\n",
       "78.45    1\n",
       "69.00    1\n",
       "76.10    1\n",
       "92.80    1\n",
       "91.75    1\n",
       "82.70    1\n",
       "78.75    1\n",
       "77.30    1\n",
       "85.50    1\n",
       "75.90    1\n",
       "75.35    1\n",
       "79.45    1\n",
       "72.45    1\n",
       "75.30    1\n",
       "94.50    1\n",
       "82.50    1\n",
       "75.95    1\n",
       "75.40    1\n",
       "82.90    1\n",
       "79.45    1\n",
       "83.30    1\n",
       "66.35    1\n",
       "80.35    1\n",
       "85.85    1\n",
       "78.65    1\n",
       "91.70    1\n",
       "Name: Literacy_Average, dtype: int64"
      ]
     },
     "execution_count": 22,
     "metadata": {},
     "output_type": "execute_result"
    }
   ],
   "source": [
    "data.Literacy_Average.value_counts()"
   ]
  },
  {
   "cell_type": "code",
   "execution_count": 23,
   "metadata": {
    "collapsed": true
   },
   "outputs": [
    {
     "data": {
      "text/plain": [
       "1001    3\n",
       "959     3\n",
       "877     3\n",
       "873     3\n",
       "1000    3\n",
       "998     3\n",
       "1091    3\n",
       "963     3\n",
       "1026    3\n",
       "896     2\n",
       "967     2\n",
       "956     2\n",
       "961     2\n",
       "867     2\n",
       "853     2\n",
       "858     2\n",
       "997     2\n",
       "880     2\n",
       "884     2\n",
       "889     2\n",
       "953     2\n",
       "895     2\n",
       "914     2\n",
       "898     2\n",
       "912     2\n",
       "910     2\n",
       "918     2\n",
       "944     1\n",
       "875     1\n",
       "990     1\n",
       "863     1\n",
       "975     1\n",
       "996     1\n",
       "913     1\n",
       "871     1\n",
       "909     1\n",
       "908     1\n",
       "987     1\n",
       "878     1\n",
       "907     1\n",
       "882     1\n",
       "883     1\n",
       "903     1\n",
       "1040    1\n",
       "886     1\n",
       "1029    1\n",
       "890     1\n",
       "894     1\n",
       "989     1\n",
       "855     1\n",
       "915     1\n",
       "920     1\n",
       "946     1\n",
       "947     1\n",
       "949     1\n",
       "950     1\n",
       "954     1\n",
       "955     1\n",
       "934     1\n",
       "932     1\n",
       "923     1\n",
       "958     1\n",
       "919     1\n",
       "936     1\n",
       "917     1\n",
       "840     1\n",
       "901     1\n",
       "971     1\n",
       "973     1\n",
       "847     1\n",
       "849     1\n",
       "978     1\n",
       "852     1\n",
       "1035    1\n",
       "965     1\n",
       "Name: Sex_Ratio_Urban, dtype: int64"
      ]
     },
     "execution_count": 23,
     "metadata": {},
     "output_type": "execute_result"
    }
   ],
   "source": [
    "data.Sex_Ratio_Urban.value_counts()"
   ]
  },
  {
   "cell_type": "code",
   "execution_count": 24,
   "metadata": {
    "collapsed": true
   },
   "outputs": [
    {
     "data": {
      "text/plain": [
       "955     5\n",
       "996     4\n",
       "979     3\n",
       "987     3\n",
       "957     3\n",
       "989     3\n",
       "1003    3\n",
       "1000    2\n",
       "986     2\n",
       "953     2\n",
       "952     2\n",
       "1079    2\n",
       "949     2\n",
       "944     2\n",
       "942     2\n",
       "936     2\n",
       "958     2\n",
       "1001    2\n",
       "921     2\n",
       "908     2\n",
       "910     2\n",
       "1002    2\n",
       "919     2\n",
       "882     2\n",
       "940     2\n",
       "1004    2\n",
       "1047    1\n",
       "980     1\n",
       "981     1\n",
       "983     1\n",
       "985     1\n",
       "891     1\n",
       "890     1\n",
       "889     1\n",
       "994     1\n",
       "972     1\n",
       "886     1\n",
       "885     1\n",
       "867     1\n",
       "990     1\n",
       "879     1\n",
       "991     1\n",
       "993     1\n",
       "939     1\n",
       "934     1\n",
       "971     1\n",
       "969     1\n",
       "1051    1\n",
       "902     1\n",
       "907     1\n",
       "935     1\n",
       "912     1\n",
       "1043    1\n",
       "918     1\n",
       "923     1\n",
       "925     1\n",
       "933     1\n",
       "550     1\n",
       "875     1\n",
       "684     1\n",
       "938     1\n",
       "555     1\n",
       "559     1\n",
       "689     1\n",
       "950     1\n",
       "1078    1\n",
       "954     1\n",
       "956     1\n",
       "897     1\n",
       "960     1\n",
       "961     1\n",
       "695     1\n",
       "963     1\n",
       "965     1\n",
       "951     1\n",
       "Name: Sex_Ratio_Rural, dtype: int64"
      ]
     },
     "execution_count": 24,
     "metadata": {},
     "output_type": "execute_result"
    }
   ],
   "source": [
    "data.Sex_Ratio_Rural.value_counts()"
   ]
  },
  {
   "cell_type": "code",
   "execution_count": 25,
   "metadata": {
    "collapsed": true
   },
   "outputs": [
    {
     "data": {
      "text/html": [
       "<div>\n",
       "<style scoped>\n",
       "    .dataframe tbody tr th:only-of-type {\n",
       "        vertical-align: middle;\n",
       "    }\n",
       "\n",
       "    .dataframe tbody tr th {\n",
       "        vertical-align: top;\n",
       "    }\n",
       "\n",
       "    .dataframe thead th {\n",
       "        text-align: right;\n",
       "    }\n",
       "</style>\n",
       "<table border=\"1\" class=\"dataframe\">\n",
       "  <thead>\n",
       "    <tr style=\"text-align: right;\">\n",
       "      <th></th>\n",
       "      <th>State</th>\n",
       "      <th>Year</th>\n",
       "      <th>Literacy_M</th>\n",
       "      <th>Literacy_F</th>\n",
       "      <th>Literacy_Average</th>\n",
       "      <th>Sex_Ratio_Urban</th>\n",
       "      <th>Sex_Ratio_Rural</th>\n",
       "    </tr>\n",
       "  </thead>\n",
       "  <tbody>\n",
       "    <tr>\n",
       "      <th>0</th>\n",
       "      <td>Jammu and Kashmir</td>\n",
       "      <td>2019</td>\n",
       "      <td>76.8</td>\n",
       "      <td>56.4</td>\n",
       "      <td>66.60</td>\n",
       "      <td>840</td>\n",
       "      <td>908</td>\n",
       "    </tr>\n",
       "    <tr>\n",
       "      <th>1</th>\n",
       "      <td>Himachal Pradesh</td>\n",
       "      <td>2019</td>\n",
       "      <td>89.5</td>\n",
       "      <td>75.9</td>\n",
       "      <td>82.70</td>\n",
       "      <td>853</td>\n",
       "      <td>986</td>\n",
       "    </tr>\n",
       "    <tr>\n",
       "      <th>2</th>\n",
       "      <td>Punjab</td>\n",
       "      <td>2019</td>\n",
       "      <td>80.4</td>\n",
       "      <td>70.7</td>\n",
       "      <td>75.55</td>\n",
       "      <td>875</td>\n",
       "      <td>907</td>\n",
       "    </tr>\n",
       "    <tr>\n",
       "      <th>3</th>\n",
       "      <td>Chandigarh</td>\n",
       "      <td>2019</td>\n",
       "      <td>80.3</td>\n",
       "      <td>60.2</td>\n",
       "      <td>70.25</td>\n",
       "      <td>956</td>\n",
       "      <td>1001</td>\n",
       "    </tr>\n",
       "    <tr>\n",
       "      <th>4</th>\n",
       "      <td>Uttarakhand</td>\n",
       "      <td>2019</td>\n",
       "      <td>87.4</td>\n",
       "      <td>70.1</td>\n",
       "      <td>78.75</td>\n",
       "      <td>884</td>\n",
       "      <td>1000</td>\n",
       "    </tr>\n",
       "  </tbody>\n",
       "</table>\n",
       "</div>"
      ],
      "text/plain": [
       "               State  Year  Literacy_M  Literacy_F  Literacy_Average  \\\n",
       "0  Jammu and Kashmir  2019        76.8        56.4             66.60   \n",
       "1   Himachal Pradesh  2019        89.5        75.9             82.70   \n",
       "2             Punjab  2019        80.4        70.7             75.55   \n",
       "3         Chandigarh  2019        80.3        60.2             70.25   \n",
       "4        Uttarakhand  2019        87.4        70.1             78.75   \n",
       "\n",
       "   Sex_Ratio_Urban  Sex_Ratio_Rural  \n",
       "0              840              908  \n",
       "1              853              986  \n",
       "2              875              907  \n",
       "3              956             1001  \n",
       "4              884             1000  "
      ]
     },
     "execution_count": 25,
     "metadata": {},
     "output_type": "execute_result"
    }
   ],
   "source": [
    "data.head()"
   ]
  },
  {
   "cell_type": "code",
   "execution_count": 26,
   "metadata": {},
   "outputs": [
    {
     "name": "stdout",
     "output_type": "stream",
     "text": [
      "<class 'pandas.core.frame.DataFrame'>\n",
      "RangeIndex: 111 entries, 0 to 110\n",
      "Data columns (total 7 columns):\n",
      " #   Column            Non-Null Count  Dtype  \n",
      "---  ------            --------------  -----  \n",
      " 0   State             111 non-null    object \n",
      " 1   Year              111 non-null    int64  \n",
      " 2   Literacy_M        111 non-null    float64\n",
      " 3   Literacy_F        111 non-null    float64\n",
      " 4   Literacy_Average  111 non-null    float64\n",
      " 5   Sex_Ratio_Urban   111 non-null    int64  \n",
      " 6   Sex_Ratio_Rural   111 non-null    int64  \n",
      "dtypes: float64(3), int64(3), object(1)\n",
      "memory usage: 6.2+ KB\n"
     ]
    }
   ],
   "source": [
    "data.info()"
   ]
  },
  {
   "cell_type": "code",
   "execution_count": 27,
   "metadata": {},
   "outputs": [
    {
     "data": {
      "text/html": [
       "<div>\n",
       "<style scoped>\n",
       "    .dataframe tbody tr th:only-of-type {\n",
       "        vertical-align: middle;\n",
       "    }\n",
       "\n",
       "    .dataframe tbody tr th {\n",
       "        vertical-align: top;\n",
       "    }\n",
       "\n",
       "    .dataframe thead th {\n",
       "        text-align: right;\n",
       "    }\n",
       "</style>\n",
       "<table border=\"1\" class=\"dataframe\">\n",
       "  <thead>\n",
       "    <tr style=\"text-align: right;\">\n",
       "      <th></th>\n",
       "      <th>State</th>\n",
       "    </tr>\n",
       "  </thead>\n",
       "  <tbody>\n",
       "    <tr>\n",
       "      <th>count</th>\n",
       "      <td>111</td>\n",
       "    </tr>\n",
       "    <tr>\n",
       "      <th>unique</th>\n",
       "      <td>37</td>\n",
       "    </tr>\n",
       "    <tr>\n",
       "      <th>top</th>\n",
       "      <td>Madhya Pradesh</td>\n",
       "    </tr>\n",
       "    <tr>\n",
       "      <th>freq</th>\n",
       "      <td>3</td>\n",
       "    </tr>\n",
       "  </tbody>\n",
       "</table>\n",
       "</div>"
      ],
      "text/plain": [
       "                 State\n",
       "count              111\n",
       "unique              37\n",
       "top     Madhya Pradesh\n",
       "freq                 3"
      ]
     },
     "execution_count": 27,
     "metadata": {},
     "output_type": "execute_result"
    }
   ],
   "source": [
    "data.describe(include=['object'])"
   ]
  },
  {
   "cell_type": "code",
   "execution_count": 28,
   "metadata": {},
   "outputs": [
    {
     "data": {
      "text/html": [
       "<div>\n",
       "<style scoped>\n",
       "    .dataframe tbody tr th:only-of-type {\n",
       "        vertical-align: middle;\n",
       "    }\n",
       "\n",
       "    .dataframe tbody tr th {\n",
       "        vertical-align: top;\n",
       "    }\n",
       "\n",
       "    .dataframe thead th {\n",
       "        text-align: right;\n",
       "    }\n",
       "</style>\n",
       "<table border=\"1\" class=\"dataframe\">\n",
       "  <thead>\n",
       "    <tr style=\"text-align: right;\">\n",
       "      <th></th>\n",
       "      <th>Year</th>\n",
       "      <th>Sex_Ratio_Urban</th>\n",
       "      <th>Sex_Ratio_Rural</th>\n",
       "    </tr>\n",
       "  </thead>\n",
       "  <tbody>\n",
       "    <tr>\n",
       "      <th>count</th>\n",
       "      <td>111.0000</td>\n",
       "      <td>111.000000</td>\n",
       "      <td>111.000000</td>\n",
       "    </tr>\n",
       "    <tr>\n",
       "      <th>mean</th>\n",
       "      <td>2020.0000</td>\n",
       "      <td>934.351351</td>\n",
       "      <td>940.729730</td>\n",
       "    </tr>\n",
       "    <tr>\n",
       "      <th>std</th>\n",
       "      <td>0.8202</td>\n",
       "      <td>57.156189</td>\n",
       "      <td>89.229219</td>\n",
       "    </tr>\n",
       "    <tr>\n",
       "      <th>min</th>\n",
       "      <td>2019.0000</td>\n",
       "      <td>840.000000</td>\n",
       "      <td>550.000000</td>\n",
       "    </tr>\n",
       "    <tr>\n",
       "      <th>25%</th>\n",
       "      <td>2019.0000</td>\n",
       "      <td>887.500000</td>\n",
       "      <td>921.000000</td>\n",
       "    </tr>\n",
       "    <tr>\n",
       "      <th>50%</th>\n",
       "      <td>2020.0000</td>\n",
       "      <td>920.000000</td>\n",
       "      <td>955.000000</td>\n",
       "    </tr>\n",
       "    <tr>\n",
       "      <th>75%</th>\n",
       "      <td>2021.0000</td>\n",
       "      <td>969.000000</td>\n",
       "      <td>988.000000</td>\n",
       "    </tr>\n",
       "    <tr>\n",
       "      <th>max</th>\n",
       "      <td>2021.0000</td>\n",
       "      <td>1091.000000</td>\n",
       "      <td>1079.000000</td>\n",
       "    </tr>\n",
       "  </tbody>\n",
       "</table>\n",
       "</div>"
      ],
      "text/plain": [
       "            Year  Sex_Ratio_Urban  Sex_Ratio_Rural\n",
       "count   111.0000       111.000000       111.000000\n",
       "mean   2020.0000       934.351351       940.729730\n",
       "std       0.8202        57.156189        89.229219\n",
       "min    2019.0000       840.000000       550.000000\n",
       "25%    2019.0000       887.500000       921.000000\n",
       "50%    2020.0000       920.000000       955.000000\n",
       "75%    2021.0000       969.000000       988.000000\n",
       "max    2021.0000      1091.000000      1079.000000"
      ]
     },
     "execution_count": 28,
     "metadata": {},
     "output_type": "execute_result"
    }
   ],
   "source": [
    "data.describe(include=['integer'])"
   ]
  },
  {
   "cell_type": "code",
   "execution_count": 29,
   "metadata": {},
   "outputs": [
    {
     "data": {
      "text/html": [
       "<div>\n",
       "<style scoped>\n",
       "    .dataframe tbody tr th:only-of-type {\n",
       "        vertical-align: middle;\n",
       "    }\n",
       "\n",
       "    .dataframe tbody tr th {\n",
       "        vertical-align: top;\n",
       "    }\n",
       "\n",
       "    .dataframe thead th {\n",
       "        text-align: right;\n",
       "    }\n",
       "</style>\n",
       "<table border=\"1\" class=\"dataframe\">\n",
       "  <thead>\n",
       "    <tr style=\"text-align: right;\">\n",
       "      <th></th>\n",
       "      <th>Literacy_M</th>\n",
       "      <th>Literacy_F</th>\n",
       "      <th>Literacy_Average</th>\n",
       "    </tr>\n",
       "  </thead>\n",
       "  <tbody>\n",
       "    <tr>\n",
       "      <th>count</th>\n",
       "      <td>111.000000</td>\n",
       "      <td>111.000000</td>\n",
       "      <td>111.000000</td>\n",
       "    </tr>\n",
       "    <tr>\n",
       "      <th>mean</th>\n",
       "      <td>84.168468</td>\n",
       "      <td>70.303604</td>\n",
       "      <td>77.236036</td>\n",
       "    </tr>\n",
       "    <tr>\n",
       "      <th>std</th>\n",
       "      <td>6.603140</td>\n",
       "      <td>10.716240</td>\n",
       "      <td>8.460929</td>\n",
       "    </tr>\n",
       "    <tr>\n",
       "      <th>min</th>\n",
       "      <td>71.200000</td>\n",
       "      <td>51.500000</td>\n",
       "      <td>61.350000</td>\n",
       "    </tr>\n",
       "    <tr>\n",
       "      <th>25%</th>\n",
       "      <td>78.550000</td>\n",
       "      <td>60.700000</td>\n",
       "      <td>70.000000</td>\n",
       "    </tr>\n",
       "    <tr>\n",
       "      <th>50%</th>\n",
       "      <td>83.600000</td>\n",
       "      <td>70.500000</td>\n",
       "      <td>76.250000</td>\n",
       "    </tr>\n",
       "    <tr>\n",
       "      <th>75%</th>\n",
       "      <td>90.200000</td>\n",
       "      <td>76.900000</td>\n",
       "      <td>83.475000</td>\n",
       "    </tr>\n",
       "    <tr>\n",
       "      <th>max</th>\n",
       "      <td>96.900000</td>\n",
       "      <td>92.600000</td>\n",
       "      <td>94.750000</td>\n",
       "    </tr>\n",
       "  </tbody>\n",
       "</table>\n",
       "</div>"
      ],
      "text/plain": [
       "       Literacy_M  Literacy_F  Literacy_Average\n",
       "count  111.000000  111.000000        111.000000\n",
       "mean    84.168468   70.303604         77.236036\n",
       "std      6.603140   10.716240          8.460929\n",
       "min     71.200000   51.500000         61.350000\n",
       "25%     78.550000   60.700000         70.000000\n",
       "50%     83.600000   70.500000         76.250000\n",
       "75%     90.200000   76.900000         83.475000\n",
       "max     96.900000   92.600000         94.750000"
      ]
     },
     "execution_count": 29,
     "metadata": {},
     "output_type": "execute_result"
    }
   ],
   "source": [
    "data.describe(include=['float'])"
   ]
  },
  {
   "cell_type": "code",
   "execution_count": 32,
   "metadata": {},
   "outputs": [
    {
     "name": "stdout",
     "output_type": "stream",
     "text": [
      "<class 'pandas.core.frame.DataFrame'>\n",
      "RangeIndex: 111 entries, 0 to 110\n",
      "Data columns (total 7 columns):\n",
      " #   Column            Non-Null Count  Dtype  \n",
      "---  ------            --------------  -----  \n",
      " 0   State             111 non-null    object \n",
      " 1   Year              111 non-null    int64  \n",
      " 2   Literacy_M        111 non-null    float64\n",
      " 3   Literacy_F        111 non-null    float64\n",
      " 4   Literacy_Average  111 non-null    float64\n",
      " 5   Sex_Ratio_Urban   111 non-null    int64  \n",
      " 6   Sex_Ratio_Rural   111 non-null    int64  \n",
      "dtypes: float64(3), int64(3), object(1)\n",
      "memory usage: 6.2+ KB\n"
     ]
    }
   ],
   "source": [
    "data.info()"
   ]
  },
  {
   "cell_type": "code",
   "execution_count": 31,
   "metadata": {},
   "outputs": [
    {
     "data": {
      "text/html": [
       "<div>\n",
       "<style scoped>\n",
       "    .dataframe tbody tr th:only-of-type {\n",
       "        vertical-align: middle;\n",
       "    }\n",
       "\n",
       "    .dataframe tbody tr th {\n",
       "        vertical-align: top;\n",
       "    }\n",
       "\n",
       "    .dataframe thead th {\n",
       "        text-align: right;\n",
       "    }\n",
       "</style>\n",
       "<table border=\"1\" class=\"dataframe\">\n",
       "  <thead>\n",
       "    <tr style=\"text-align: right;\">\n",
       "      <th></th>\n",
       "      <th>State</th>\n",
       "      <th>Year</th>\n",
       "      <th>Literacy_M</th>\n",
       "      <th>Literacy_F</th>\n",
       "      <th>Literacy_Average</th>\n",
       "      <th>Sex_Ratio_Urban</th>\n",
       "      <th>Sex_Ratio_Rural</th>\n",
       "    </tr>\n",
       "  </thead>\n",
       "  <tbody>\n",
       "    <tr>\n",
       "      <th>0</th>\n",
       "      <td>Jammu and Kashmir</td>\n",
       "      <td>2019</td>\n",
       "      <td>76.8</td>\n",
       "      <td>56.4</td>\n",
       "      <td>66.60</td>\n",
       "      <td>840</td>\n",
       "      <td>908</td>\n",
       "    </tr>\n",
       "    <tr>\n",
       "      <th>1</th>\n",
       "      <td>Himachal Pradesh</td>\n",
       "      <td>2019</td>\n",
       "      <td>89.5</td>\n",
       "      <td>75.9</td>\n",
       "      <td>82.70</td>\n",
       "      <td>853</td>\n",
       "      <td>986</td>\n",
       "    </tr>\n",
       "    <tr>\n",
       "      <th>2</th>\n",
       "      <td>Punjab</td>\n",
       "      <td>2019</td>\n",
       "      <td>80.4</td>\n",
       "      <td>70.7</td>\n",
       "      <td>75.55</td>\n",
       "      <td>875</td>\n",
       "      <td>907</td>\n",
       "    </tr>\n",
       "    <tr>\n",
       "      <th>3</th>\n",
       "      <td>Chandigarh</td>\n",
       "      <td>2019</td>\n",
       "      <td>80.3</td>\n",
       "      <td>60.2</td>\n",
       "      <td>70.25</td>\n",
       "      <td>956</td>\n",
       "      <td>1001</td>\n",
       "    </tr>\n",
       "    <tr>\n",
       "      <th>4</th>\n",
       "      <td>Uttarakhand</td>\n",
       "      <td>2019</td>\n",
       "      <td>87.4</td>\n",
       "      <td>70.1</td>\n",
       "      <td>78.75</td>\n",
       "      <td>884</td>\n",
       "      <td>1000</td>\n",
       "    </tr>\n",
       "  </tbody>\n",
       "</table>\n",
       "</div>"
      ],
      "text/plain": [
       "               State  Year  Literacy_M  Literacy_F  Literacy_Average  \\\n",
       "0  Jammu and Kashmir  2019        76.8        56.4             66.60   \n",
       "1   Himachal Pradesh  2019        89.5        75.9             82.70   \n",
       "2             Punjab  2019        80.4        70.7             75.55   \n",
       "3         Chandigarh  2019        80.3        60.2             70.25   \n",
       "4        Uttarakhand  2019        87.4        70.1             78.75   \n",
       "\n",
       "   Sex_Ratio_Urban  Sex_Ratio_Rural  \n",
       "0              840              908  \n",
       "1              853              986  \n",
       "2              875              907  \n",
       "3              956             1001  \n",
       "4              884             1000  "
      ]
     },
     "execution_count": 31,
     "metadata": {},
     "output_type": "execute_result"
    }
   ],
   "source": [
    "data.head()"
   ]
  },
  {
   "cell_type": "markdown",
   "metadata": {},
   "source": [
    "# Exploratory Data Analysis"
   ]
  },
  {
   "cell_type": "code",
   "execution_count": 33,
   "metadata": {},
   "outputs": [
    {
     "data": {
      "text/plain": [
       "<AxesSubplot:xlabel='Literacy_M'>"
      ]
     },
     "execution_count": 33,
     "metadata": {},
     "output_type": "execute_result"
    },
    {
     "data": {
      "image/png": "[encoded data removed]",
      "text/plain": [
       "<Figure size 432x288 with 1 Axes>"
      ]
     },
     "metadata": {
      "needs_background": "light"
     },
     "output_type": "display_data"
    }
   ],
   "source": [
    "sns.boxplot(data.Literacy_M)"
   ]
  },
  {
   "cell_type": "code",
   "execution_count": 34,
   "metadata": {},
   "outputs": [
    {
     "data": {
      "text/plain": [
       "<AxesSubplot:xlabel='Literacy_F'>"
      ]
     },
     "execution_count": 34,
     "metadata": {},
     "output_type": "execute_result"
    },
    {
     "data": {
      "image/png": "[encoded data removed]",
      "text/plain": [
       "<Figure size 432x288 with 1 Axes>"
      ]
     },
     "metadata": {
      "needs_background": "light"
     },
     "output_type": "display_data"
    }
   ],
   "source": [
    "sns.boxplot(data.Literacy_F)"
   ]
  },
  {
   "cell_type": "code",
   "execution_count": 35,
   "metadata": {},
   "outputs": [
    {
     "data": {
      "text/plain": [
       "<AxesSubplot:xlabel='Literacy_Average'>"
      ]
     },
     "execution_count": 35,
     "metadata": {},
     "output_type": "execute_result"
    },
    {
     "data": {
      "image/png": "[encoded data removed]",
      "text/plain": [
       "<Figure size 432x288 with 1 Axes>"
      ]
     },
     "metadata": {
      "needs_background": "light"
     },
     "output_type": "display_data"
    }
   ],
   "source": [
    "sns.boxplot(data.Literacy_Average)"
   ]
  },
  {
   "cell_type": "code",
   "execution_count": 36,
   "metadata": {},
   "outputs": [
    {
     "data": {
      "text/plain": [
       "<AxesSubplot:xlabel='Sex_Ratio_Urban'>"
      ]
     },
     "execution_count": 36,
     "metadata": {},
     "output_type": "execute_result"
    },
    {
     "data": {
      "image/png": "[encoded data removed]",
      "text/plain": [
       "<Figure size 432x288 with 1 Axes>"
      ]
     },
     "metadata": {
      "needs_background": "light"
     },
     "output_type": "display_data"
    }
   ],
   "source": [
    "sns.boxplot(data.Sex_Ratio_Urban)"
   ]
  },
  {
   "cell_type": "code",
   "execution_count": 37,
   "metadata": {},
   "outputs": [
    {
     "data": {
      "text/plain": [
       "<AxesSubplot:xlabel='Sex_Ratio_Rural'>"
      ]
     },
     "execution_count": 37,
     "metadata": {},
     "output_type": "execute_result"
    },
    {
     "data": {
      "image/png": "[encoded data removed]",
      "text/plain": [
       "<Figure size 432x288 with 1 Axes>"
      ]
     },
     "metadata": {
      "needs_background": "light"
     },
     "output_type": "display_data"
    }
   ],
   "source": [
    "sns.boxplot(data.Sex_Ratio_Rural)"
   ]
  },
  {
   "cell_type": "markdown",
   "metadata": {},
   "source": [
    "### Univariate Analysis"
   ]
  },
  {
   "cell_type": "code",
   "execution_count": null,
   "metadata": {},
   "outputs": [],
   "source": []
  },
  {
   "cell_type": "code",
   "execution_count": 38,
   "metadata": {},
   "outputs": [
    {
     "data": {
      "application/vnd.jupyter.widget-view+json": {
       "model_id": "a934988957b545bd96550377c386ef3b",
       "version_major": 2,
       "version_minor": 0
      },
      "text/plain": [
       "                                             |                                             | [  0%]   00:00 ->…"
      ]
     },
     "metadata": {},
     "output_type": "display_data"
    },
    {
     "name": "stdout",
     "output_type": "stream",
     "text": [
      "Report SWEETVIZ_REPORT.html was generated! NOTEBOOK/COLAB USERS: the web browser MAY not pop up, regardless, the report IS saved in your notebook/colab files.\n"
     ]
    }
   ],
   "source": [
    "import sweetviz as sv\n",
    "my_report=sv.analyze(data)\n",
    "my_report.show_html()"
   ]
  },
  {
   "cell_type": "code",
   "execution_count": 4,
   "metadata": {},
   "outputs": [
    {
     "data": {
      "application/vnd.jupyter.widget-view+json": {
       "model_id": "96f0ac3279544cac993e2cfffc327013",
       "version_major": 2,
       "version_minor": 0
      },
      "text/plain": [
       "Summarize dataset:   0%|          | 0/15 [00:00<?, ?it/s]"
      ]
     },
     "metadata": {},
     "output_type": "display_data"
    },
    {
     "data": {
      "application/vnd.jupyter.widget-view+json": {
       "model_id": "e68e1e2833994dceb7ca504dc66a675b",
       "version_major": 2,
       "version_minor": 0
      },
      "text/plain": [
       "Generate report structure:   0%|          | 0/1 [00:00<?, ?it/s]"
      ]
     },
     "metadata": {},
     "output_type": "display_data"
    },
    {
     "data": {
      "application/vnd.jupyter.widget-view+json": {
       "model_id": "",
       "version_major": 2,
       "version_minor": 0
      },
      "text/plain": [
       "Render widgets:   0%|          | 0/1 [00:00<?, ?it/s]"
      ]
     },
     "metadata": {},
     "output_type": "display_data"
    },
    {
     "data": {
      "application/vnd.jupyter.widget-view+json": {
       "model_id": "2bdacd67484545fd8da43557d7406e49",
       "version_major": 2,
       "version_minor": 0
      },
      "text/plain": [
       "VBox(children=(Tab(children=(Tab(children=(GridBox(children=(VBox(children=(GridspecLayout(children=(HTML(valu…"
      ]
     },
     "metadata": {},
     "output_type": "display_data"
    },
    {
     "data": {
      "application/vnd.jupyter.widget-view+json": {
       "model_id": "68ad20c0ba17448392d1bd204b36a4e8",
       "version_major": 2,
       "version_minor": 0
      },
      "text/plain": [
       "Render HTML:   0%|          | 0/1 [00:00<?, ?it/s]"
      ]
     },
     "metadata": {},
     "output_type": "display_data"
    },
    {
     "data": {
      "application/vnd.jupyter.widget-view+json": {
       "model_id": "e43bd74ea3b143929e259350290d2c11",
       "version_major": 2,
       "version_minor": 0
      },
      "text/plain": [
       "Export report to file:   0%|          | 0/1 [00:00<?, ?it/s]"
      ]
     },
     "metadata": {},
     "output_type": "display_data"
    }
   ],
   "source": [
    "from pandas_profiling import ProfileReport\n",
    "profile = ProfileReport(data,title=\"Pandas Profiling Report\", minimal=True)\n",
    "profile.to_widgets()\n",
    "profile.to_file(\"L&S_Pandas_Profiling_Report.html\")"
   ]
  },
  {
   "cell_type": "code",
   "execution_count": null,
   "metadata": {},
   "outputs": [],
   "source": []
  },
  {
   "cell_type": "code",
   "execution_count": 40,
   "metadata": {},
   "outputs": [
    {
     "data": {
      "text/plain": [
       "Index(['State', 'Year', 'Literacy_M', 'Literacy_F', 'Literacy_Average',\n",
       "       'Sex_Ratio_Urban', 'Sex_Ratio_Rural'],\n",
       "      dtype='object')"
      ]
     },
     "execution_count": 40,
     "metadata": {},
     "output_type": "execute_result"
    }
   ],
   "source": [
    "data.columns"
   ]
  },
  {
   "cell_type": "markdown",
   "metadata": {},
   "source": [
    "### Literacy_M "
   ]
  },
  {
   "cell_type": "code",
   "execution_count": 41,
   "metadata": {},
   "outputs": [
    {
     "name": "stdout",
     "output_type": "stream",
     "text": [
      "84.16846846846849 is the Average Literacy_M \n"
     ]
    }
   ],
   "source": [
    "avg = data['Literacy_M'].mean()\n",
    "print(str(avg) + \" is the Average Literacy_M \")"
   ]
  },
  {
   "cell_type": "code",
   "execution_count": 42,
   "metadata": {},
   "outputs": [
    {
     "data": {
      "text/plain": [
       "9342.7"
      ]
     },
     "execution_count": 42,
     "metadata": {},
     "output_type": "execute_result"
    }
   ],
   "source": [
    "total_Literacy_M=data['Literacy_M'].sum()\n",
    "total_Literacy_M  "
   ]
  },
  {
   "cell_type": "code",
   "execution_count": 43,
   "metadata": {},
   "outputs": [
    {
     "data": {
      "text/html": [
       "<div>\n",
       "<style scoped>\n",
       "    .dataframe tbody tr th:only-of-type {\n",
       "        vertical-align: middle;\n",
       "    }\n",
       "\n",
       "    .dataframe tbody tr th {\n",
       "        vertical-align: top;\n",
       "    }\n",
       "\n",
       "    .dataframe thead th {\n",
       "        text-align: right;\n",
       "    }\n",
       "</style>\n",
       "<table border=\"1\" class=\"dataframe\">\n",
       "  <thead>\n",
       "    <tr style=\"text-align: right;\">\n",
       "      <th></th>\n",
       "      <th>State</th>\n",
       "      <th>Year</th>\n",
       "      <th>Literacy_M</th>\n",
       "      <th>Literacy_F</th>\n",
       "      <th>Literacy_Average</th>\n",
       "      <th>Sex_Ratio_Urban</th>\n",
       "      <th>Sex_Ratio_Rural</th>\n",
       "    </tr>\n",
       "  </thead>\n",
       "  <tbody>\n",
       "    <tr>\n",
       "      <th>9</th>\n",
       "      <td>Bihar</td>\n",
       "      <td>2019</td>\n",
       "      <td>71.2</td>\n",
       "      <td>51.5</td>\n",
       "      <td>61.35</td>\n",
       "      <td>895</td>\n",
       "      <td>921</td>\n",
       "    </tr>\n",
       "    <tr>\n",
       "      <th>46</th>\n",
       "      <td>Bihar</td>\n",
       "      <td>2020</td>\n",
       "      <td>71.7</td>\n",
       "      <td>52.1</td>\n",
       "      <td>61.90</td>\n",
       "      <td>898</td>\n",
       "      <td>923</td>\n",
       "    </tr>\n",
       "    <tr>\n",
       "      <th>83</th>\n",
       "      <td>Bihar</td>\n",
       "      <td>2021</td>\n",
       "      <td>72.0</td>\n",
       "      <td>52.4</td>\n",
       "      <td>62.20</td>\n",
       "      <td>901</td>\n",
       "      <td>925</td>\n",
       "    </tr>\n",
       "    <tr>\n",
       "      <th>11</th>\n",
       "      <td>Arunachal Pradesh</td>\n",
       "      <td>2019</td>\n",
       "      <td>72.6</td>\n",
       "      <td>57.7</td>\n",
       "      <td>65.15</td>\n",
       "      <td>890</td>\n",
       "      <td>953</td>\n",
       "    </tr>\n",
       "    <tr>\n",
       "      <th>48</th>\n",
       "      <td>Arunachal Pradesh</td>\n",
       "      <td>2020</td>\n",
       "      <td>72.9</td>\n",
       "      <td>58.1</td>\n",
       "      <td>65.50</td>\n",
       "      <td>895</td>\n",
       "      <td>955</td>\n",
       "    </tr>\n",
       "  </tbody>\n",
       "</table>\n",
       "</div>"
      ],
      "text/plain": [
       "                State  Year  Literacy_M  Literacy_F  Literacy_Average  \\\n",
       "9               Bihar  2019        71.2        51.5             61.35   \n",
       "46              Bihar  2020        71.7        52.1             61.90   \n",
       "83              Bihar  2021        72.0        52.4             62.20   \n",
       "11  Arunachal Pradesh  2019        72.6        57.7             65.15   \n",
       "48  Arunachal Pradesh  2020        72.9        58.1             65.50   \n",
       "\n",
       "    Sex_Ratio_Urban  Sex_Ratio_Rural  \n",
       "9               895              921  \n",
       "46              898              923  \n",
       "83              901              925  \n",
       "11              890              953  \n",
       "48              895              955  "
      ]
     },
     "execution_count": 43,
     "metadata": {},
     "output_type": "execute_result"
    }
   ],
   "source": [
    "#lowest Male Literacy states\n",
    "data.sort_values(by = 'Literacy_M' , ascending = True).head()"
   ]
  },
  {
   "cell_type": "code",
   "execution_count": 7,
   "metadata": {},
   "outputs": [
    {
     "data": {
      "text/html": [
       "<div>\n",
       "<style scoped>\n",
       "    .dataframe tbody tr th:only-of-type {\n",
       "        vertical-align: middle;\n",
       "    }\n",
       "\n",
       "    .dataframe tbody tr th {\n",
       "        vertical-align: top;\n",
       "    }\n",
       "\n",
       "    .dataframe thead th {\n",
       "        text-align: right;\n",
       "    }\n",
       "</style>\n",
       "<table border=\"1\" class=\"dataframe\">\n",
       "  <thead>\n",
       "    <tr style=\"text-align: right;\">\n",
       "      <th></th>\n",
       "      <th>State</th>\n",
       "      <th>Year</th>\n",
       "      <th>Literacy_M</th>\n",
       "      <th>Literacy_F</th>\n",
       "      <th>Literacy_Average</th>\n",
       "      <th>Sex_Ratio_Urban</th>\n",
       "      <th>Sex_Ratio_Rural</th>\n",
       "    </tr>\n",
       "  </thead>\n",
       "  <tbody>\n",
       "    <tr>\n",
       "      <th>104</th>\n",
       "      <td>Kerala</td>\n",
       "      <td>2021</td>\n",
       "      <td>96.9</td>\n",
       "      <td>92.6</td>\n",
       "      <td>94.75</td>\n",
       "      <td>1091</td>\n",
       "      <td>1079</td>\n",
       "    </tr>\n",
       "    <tr>\n",
       "      <th>103</th>\n",
       "      <td>Lakshadweep</td>\n",
       "      <td>2021</td>\n",
       "      <td>96.8</td>\n",
       "      <td>88.8</td>\n",
       "      <td>92.80</td>\n",
       "      <td>963</td>\n",
       "      <td>954</td>\n",
       "    </tr>\n",
       "    <tr>\n",
       "      <th>67</th>\n",
       "      <td>Kerala</td>\n",
       "      <td>2020</td>\n",
       "      <td>96.6</td>\n",
       "      <td>92.4</td>\n",
       "      <td>94.50</td>\n",
       "      <td>1091</td>\n",
       "      <td>1079</td>\n",
       "    </tr>\n",
       "    <tr>\n",
       "      <th>66</th>\n",
       "      <td>Lakshadweep</td>\n",
       "      <td>2020</td>\n",
       "      <td>96.2</td>\n",
       "      <td>88.2</td>\n",
       "      <td>92.20</td>\n",
       "      <td>959</td>\n",
       "      <td>950</td>\n",
       "    </tr>\n",
       "    <tr>\n",
       "      <th>30</th>\n",
       "      <td>Kerala</td>\n",
       "      <td>2019</td>\n",
       "      <td>96.1</td>\n",
       "      <td>92.1</td>\n",
       "      <td>94.10</td>\n",
       "      <td>1091</td>\n",
       "      <td>1078</td>\n",
       "    </tr>\n",
       "    <tr>\n",
       "      <th>29</th>\n",
       "      <td>Lakshadweep</td>\n",
       "      <td>2019</td>\n",
       "      <td>95.6</td>\n",
       "      <td>87.9</td>\n",
       "      <td>91.75</td>\n",
       "      <td>954</td>\n",
       "      <td>944</td>\n",
       "    </tr>\n",
       "    <tr>\n",
       "      <th>88</th>\n",
       "      <td>Mizoram</td>\n",
       "      <td>2021</td>\n",
       "      <td>94.1</td>\n",
       "      <td>90.0</td>\n",
       "      <td>92.05</td>\n",
       "      <td>998</td>\n",
       "      <td>957</td>\n",
       "    </tr>\n",
       "    <tr>\n",
       "      <th>51</th>\n",
       "      <td>Mizoram</td>\n",
       "      <td>2020</td>\n",
       "      <td>93.7</td>\n",
       "      <td>89.7</td>\n",
       "      <td>91.70</td>\n",
       "      <td>998</td>\n",
       "      <td>955</td>\n",
       "    </tr>\n",
       "    <tr>\n",
       "      <th>14</th>\n",
       "      <td>Mizoram</td>\n",
       "      <td>2019</td>\n",
       "      <td>93.3</td>\n",
       "      <td>89.3</td>\n",
       "      <td>91.30</td>\n",
       "      <td>998</td>\n",
       "      <td>952</td>\n",
       "    </tr>\n",
       "    <tr>\n",
       "      <th>102</th>\n",
       "      <td>Goa</td>\n",
       "      <td>2021</td>\n",
       "      <td>93.2</td>\n",
       "      <td>85.5</td>\n",
       "      <td>89.35</td>\n",
       "      <td>958</td>\n",
       "      <td>1004</td>\n",
       "    </tr>\n",
       "    <tr>\n",
       "      <th>65</th>\n",
       "      <td>Goa</td>\n",
       "      <td>2020</td>\n",
       "      <td>92.9</td>\n",
       "      <td>85.1</td>\n",
       "      <td>89.00</td>\n",
       "      <td>955</td>\n",
       "      <td>1004</td>\n",
       "    </tr>\n",
       "    <tr>\n",
       "      <th>98</th>\n",
       "      <td>Daman and Diu</td>\n",
       "      <td>2021</td>\n",
       "      <td>92.7</td>\n",
       "      <td>80.7</td>\n",
       "      <td>86.70</td>\n",
       "      <td>877</td>\n",
       "      <td>559</td>\n",
       "    </tr>\n",
       "    <tr>\n",
       "      <th>28</th>\n",
       "      <td>Goa</td>\n",
       "      <td>2019</td>\n",
       "      <td>92.6</td>\n",
       "      <td>84.7</td>\n",
       "      <td>88.65</td>\n",
       "      <td>953</td>\n",
       "      <td>1003</td>\n",
       "    </tr>\n",
       "    <tr>\n",
       "      <th>89</th>\n",
       "      <td>Tripura</td>\n",
       "      <td>2021</td>\n",
       "      <td>92.2</td>\n",
       "      <td>83.5</td>\n",
       "      <td>87.85</td>\n",
       "      <td>978</td>\n",
       "      <td>958</td>\n",
       "    </tr>\n",
       "    <tr>\n",
       "      <th>61</th>\n",
       "      <td>Daman and Diu</td>\n",
       "      <td>2020</td>\n",
       "      <td>92.1</td>\n",
       "      <td>80.1</td>\n",
       "      <td>86.10</td>\n",
       "      <td>873</td>\n",
       "      <td>555</td>\n",
       "    </tr>\n",
       "    <tr>\n",
       "      <th>106</th>\n",
       "      <td>Puducherry</td>\n",
       "      <td>2021</td>\n",
       "      <td>92.1</td>\n",
       "      <td>81.7</td>\n",
       "      <td>86.90</td>\n",
       "      <td>1040</td>\n",
       "      <td>1051</td>\n",
       "    </tr>\n",
       "    <tr>\n",
       "      <th>80</th>\n",
       "      <td>Delhi</td>\n",
       "      <td>2021</td>\n",
       "      <td>91.8</td>\n",
       "      <td>81.8</td>\n",
       "      <td>86.80</td>\n",
       "      <td>858</td>\n",
       "      <td>879</td>\n",
       "    </tr>\n",
       "    <tr>\n",
       "      <th>52</th>\n",
       "      <td>Tripura</td>\n",
       "      <td>2020</td>\n",
       "      <td>91.8</td>\n",
       "      <td>83.2</td>\n",
       "      <td>87.50</td>\n",
       "      <td>975</td>\n",
       "      <td>956</td>\n",
       "    </tr>\n",
       "    <tr>\n",
       "      <th>69</th>\n",
       "      <td>Puducherry</td>\n",
       "      <td>2020</td>\n",
       "      <td>91.7</td>\n",
       "      <td>81.2</td>\n",
       "      <td>86.45</td>\n",
       "      <td>1035</td>\n",
       "      <td>1047</td>\n",
       "    </tr>\n",
       "    <tr>\n",
       "      <th>24</th>\n",
       "      <td>Daman and Diu</td>\n",
       "      <td>2019</td>\n",
       "      <td>91.5</td>\n",
       "      <td>79.5</td>\n",
       "      <td>85.50</td>\n",
       "      <td>867</td>\n",
       "      <td>550</td>\n",
       "    </tr>\n",
       "    <tr>\n",
       "      <th>15</th>\n",
       "      <td>Tripura</td>\n",
       "      <td>2019</td>\n",
       "      <td>91.5</td>\n",
       "      <td>82.7</td>\n",
       "      <td>87.10</td>\n",
       "      <td>973</td>\n",
       "      <td>955</td>\n",
       "    </tr>\n",
       "    <tr>\n",
       "      <th>43</th>\n",
       "      <td>Delhi</td>\n",
       "      <td>2020</td>\n",
       "      <td>91.4</td>\n",
       "      <td>81.3</td>\n",
       "      <td>86.35</td>\n",
       "      <td>853</td>\n",
       "      <td>875</td>\n",
       "    </tr>\n",
       "    <tr>\n",
       "      <th>32</th>\n",
       "      <td>Puducherry</td>\n",
       "      <td>2019</td>\n",
       "      <td>91.3</td>\n",
       "      <td>80.7</td>\n",
       "      <td>86.00</td>\n",
       "      <td>1029</td>\n",
       "      <td>1043</td>\n",
       "    </tr>\n",
       "    <tr>\n",
       "      <th>107</th>\n",
       "      <td>Andaman and Nicobar Islands</td>\n",
       "      <td>2021</td>\n",
       "      <td>91.1</td>\n",
       "      <td>83.1</td>\n",
       "      <td>87.10</td>\n",
       "      <td>883</td>\n",
       "      <td>902</td>\n",
       "    </tr>\n",
       "    <tr>\n",
       "      <th>6</th>\n",
       "      <td>Delhi</td>\n",
       "      <td>2019</td>\n",
       "      <td>90.9</td>\n",
       "      <td>80.8</td>\n",
       "      <td>85.85</td>\n",
       "      <td>847</td>\n",
       "      <td>867</td>\n",
       "    </tr>\n",
       "    <tr>\n",
       "      <th>70</th>\n",
       "      <td>Andaman and Nicobar Islands</td>\n",
       "      <td>2020</td>\n",
       "      <td>90.7</td>\n",
       "      <td>82.7</td>\n",
       "      <td>86.70</td>\n",
       "      <td>877</td>\n",
       "      <td>897</td>\n",
       "    </tr>\n",
       "    <tr>\n",
       "      <th>75</th>\n",
       "      <td>Himachal Pradesh</td>\n",
       "      <td>2021</td>\n",
       "      <td>90.4</td>\n",
       "      <td>76.9</td>\n",
       "      <td>83.65</td>\n",
       "      <td>858</td>\n",
       "      <td>989</td>\n",
       "    </tr>\n",
       "    <tr>\n",
       "      <th>33</th>\n",
       "      <td>Andaman and Nicobar Islands</td>\n",
       "      <td>2019</td>\n",
       "      <td>90.3</td>\n",
       "      <td>82.4</td>\n",
       "      <td>86.35</td>\n",
       "      <td>871</td>\n",
       "      <td>891</td>\n",
       "    </tr>\n",
       "    <tr>\n",
       "      <th>38</th>\n",
       "      <td>Himachal Pradesh</td>\n",
       "      <td>2020</td>\n",
       "      <td>90.1</td>\n",
       "      <td>76.5</td>\n",
       "      <td>83.30</td>\n",
       "      <td>855</td>\n",
       "      <td>987</td>\n",
       "    </tr>\n",
       "    <tr>\n",
       "      <th>1</th>\n",
       "      <td>Himachal Pradesh</td>\n",
       "      <td>2019</td>\n",
       "      <td>89.5</td>\n",
       "      <td>75.9</td>\n",
       "      <td>82.70</td>\n",
       "      <td>853</td>\n",
       "      <td>986</td>\n",
       "    </tr>\n",
       "    <tr>\n",
       "      <th>100</th>\n",
       "      <td>Maharashtra</td>\n",
       "      <td>2021</td>\n",
       "      <td>89.2</td>\n",
       "      <td>76.6</td>\n",
       "      <td>82.90</td>\n",
       "      <td>909</td>\n",
       "      <td>957</td>\n",
       "    </tr>\n",
       "    <tr>\n",
       "      <th>63</th>\n",
       "      <td>Maharashtra</td>\n",
       "      <td>2020</td>\n",
       "      <td>88.8</td>\n",
       "      <td>76.2</td>\n",
       "      <td>82.50</td>\n",
       "      <td>907</td>\n",
       "      <td>955</td>\n",
       "    </tr>\n",
       "    <tr>\n",
       "      <th>26</th>\n",
       "      <td>Maharashtra</td>\n",
       "      <td>2019</td>\n",
       "      <td>88.4</td>\n",
       "      <td>75.9</td>\n",
       "      <td>82.15</td>\n",
       "      <td>903</td>\n",
       "      <td>952</td>\n",
       "    </tr>\n",
       "    <tr>\n",
       "      <th>78</th>\n",
       "      <td>Uttarakhand</td>\n",
       "      <td>2021</td>\n",
       "      <td>88.2</td>\n",
       "      <td>70.7</td>\n",
       "      <td>79.45</td>\n",
       "      <td>889</td>\n",
       "      <td>1000</td>\n",
       "    </tr>\n",
       "    <tr>\n",
       "      <th>105</th>\n",
       "      <td>Tamil Nadu</td>\n",
       "      <td>2021</td>\n",
       "      <td>87.5</td>\n",
       "      <td>74.1</td>\n",
       "      <td>80.80</td>\n",
       "      <td>1000</td>\n",
       "      <td>996</td>\n",
       "    </tr>\n",
       "    <tr>\n",
       "      <th>4</th>\n",
       "      <td>Uttarakhand</td>\n",
       "      <td>2019</td>\n",
       "      <td>87.4</td>\n",
       "      <td>70.1</td>\n",
       "      <td>78.75</td>\n",
       "      <td>884</td>\n",
       "      <td>1000</td>\n",
       "    </tr>\n",
       "    <tr>\n",
       "      <th>84</th>\n",
       "      <td>Sikkim</td>\n",
       "      <td>2021</td>\n",
       "      <td>87.2</td>\n",
       "      <td>76.3</td>\n",
       "      <td>81.75</td>\n",
       "      <td>918</td>\n",
       "      <td>889</td>\n",
       "    </tr>\n",
       "    <tr>\n",
       "      <th>68</th>\n",
       "      <td>Tamil Nadu</td>\n",
       "      <td>2020</td>\n",
       "      <td>87.1</td>\n",
       "      <td>73.6</td>\n",
       "      <td>80.35</td>\n",
       "      <td>1000</td>\n",
       "      <td>994</td>\n",
       "    </tr>\n",
       "    <tr>\n",
       "      <th>47</th>\n",
       "      <td>Sikkim</td>\n",
       "      <td>2020</td>\n",
       "      <td>86.9</td>\n",
       "      <td>75.9</td>\n",
       "      <td>81.40</td>\n",
       "      <td>915</td>\n",
       "      <td>886</td>\n",
       "    </tr>\n",
       "    <tr>\n",
       "      <th>31</th>\n",
       "      <td>Tamil Nadu</td>\n",
       "      <td>2019</td>\n",
       "      <td>86.8</td>\n",
       "      <td>73.4</td>\n",
       "      <td>80.10</td>\n",
       "      <td>1000</td>\n",
       "      <td>993</td>\n",
       "    </tr>\n",
       "    <tr>\n",
       "      <th>110</th>\n",
       "      <td>Ladakh</td>\n",
       "      <td>2021</td>\n",
       "      <td>86.7</td>\n",
       "      <td>70.6</td>\n",
       "      <td>78.65</td>\n",
       "      <td>971</td>\n",
       "      <td>990</td>\n",
       "    </tr>\n",
       "    <tr>\n",
       "      <th>10</th>\n",
       "      <td>Sikkim</td>\n",
       "      <td>2019</td>\n",
       "      <td>86.6</td>\n",
       "      <td>75.6</td>\n",
       "      <td>81.10</td>\n",
       "      <td>913</td>\n",
       "      <td>882</td>\n",
       "    </tr>\n",
       "    <tr>\n",
       "      <th>97</th>\n",
       "      <td>Gujarat</td>\n",
       "      <td>2021</td>\n",
       "      <td>86.4</td>\n",
       "      <td>70.5</td>\n",
       "      <td>78.45</td>\n",
       "      <td>886</td>\n",
       "      <td>951</td>\n",
       "    </tr>\n",
       "    <tr>\n",
       "      <th>99</th>\n",
       "      <td>Dadra and Nagar Haveli</td>\n",
       "      <td>2021</td>\n",
       "      <td>86.2</td>\n",
       "      <td>65.7</td>\n",
       "      <td>75.95</td>\n",
       "      <td>873</td>\n",
       "      <td>695</td>\n",
       "    </tr>\n",
       "    <tr>\n",
       "      <th>60</th>\n",
       "      <td>Gujarat</td>\n",
       "      <td>2020</td>\n",
       "      <td>86.1</td>\n",
       "      <td>70.1</td>\n",
       "      <td>78.10</td>\n",
       "      <td>884</td>\n",
       "      <td>949</td>\n",
       "    </tr>\n",
       "    <tr>\n",
       "      <th>73</th>\n",
       "      <td>Ladakh</td>\n",
       "      <td>2020</td>\n",
       "      <td>86.1</td>\n",
       "      <td>70.1</td>\n",
       "      <td>78.10</td>\n",
       "      <td>967</td>\n",
       "      <td>985</td>\n",
       "    </tr>\n",
       "    <tr>\n",
       "      <th>23</th>\n",
       "      <td>Gujarat</td>\n",
       "      <td>2019</td>\n",
       "      <td>85.8</td>\n",
       "      <td>69.7</td>\n",
       "      <td>77.75</td>\n",
       "      <td>880</td>\n",
       "      <td>949</td>\n",
       "    </tr>\n",
       "    <tr>\n",
       "      <th>36</th>\n",
       "      <td>Ladakh</td>\n",
       "      <td>2019</td>\n",
       "      <td>85.7</td>\n",
       "      <td>69.6</td>\n",
       "      <td>77.65</td>\n",
       "      <td>963</td>\n",
       "      <td>979</td>\n",
       "    </tr>\n",
       "    <tr>\n",
       "      <th>62</th>\n",
       "      <td>Dadra and Nagar Haveli</td>\n",
       "      <td>2020</td>\n",
       "      <td>85.7</td>\n",
       "      <td>65.1</td>\n",
       "      <td>75.40</td>\n",
       "      <td>867</td>\n",
       "      <td>689</td>\n",
       "    </tr>\n",
       "    <tr>\n",
       "      <th>25</th>\n",
       "      <td>Dadra and Nagar Haveli</td>\n",
       "      <td>2019</td>\n",
       "      <td>85.2</td>\n",
       "      <td>64.3</td>\n",
       "      <td>74.75</td>\n",
       "      <td>863</td>\n",
       "      <td>684</td>\n",
       "    </tr>\n",
       "    <tr>\n",
       "      <th>79</th>\n",
       "      <td>Haryana</td>\n",
       "      <td>2021</td>\n",
       "      <td>84.8</td>\n",
       "      <td>66.5</td>\n",
       "      <td>75.65</td>\n",
       "      <td>880</td>\n",
       "      <td>890</td>\n",
       "    </tr>\n",
       "    <tr>\n",
       "      <th>42</th>\n",
       "      <td>Haryana</td>\n",
       "      <td>2020</td>\n",
       "      <td>84.5</td>\n",
       "      <td>66.2</td>\n",
       "      <td>75.35</td>\n",
       "      <td>877</td>\n",
       "      <td>885</td>\n",
       "    </tr>\n",
       "    <tr>\n",
       "      <th>87</th>\n",
       "      <td>Manipur</td>\n",
       "      <td>2021</td>\n",
       "      <td>84.3</td>\n",
       "      <td>71.0</td>\n",
       "      <td>77.65</td>\n",
       "      <td>1026</td>\n",
       "      <td>972</td>\n",
       "    </tr>\n",
       "    <tr>\n",
       "      <th>5</th>\n",
       "      <td>Haryana</td>\n",
       "      <td>2019</td>\n",
       "      <td>84.1</td>\n",
       "      <td>65.9</td>\n",
       "      <td>75.00</td>\n",
       "      <td>873</td>\n",
       "      <td>882</td>\n",
       "    </tr>\n",
       "    <tr>\n",
       "      <th>50</th>\n",
       "      <td>Manipur</td>\n",
       "      <td>2020</td>\n",
       "      <td>83.9</td>\n",
       "      <td>70.7</td>\n",
       "      <td>77.30</td>\n",
       "      <td>1026</td>\n",
       "      <td>971</td>\n",
       "    </tr>\n",
       "    <tr>\n",
       "      <th>13</th>\n",
       "      <td>Manipur</td>\n",
       "      <td>2019</td>\n",
       "      <td>83.6</td>\n",
       "      <td>70.3</td>\n",
       "      <td>76.95</td>\n",
       "      <td>1026</td>\n",
       "      <td>969</td>\n",
       "    </tr>\n",
       "    <tr>\n",
       "      <th>49</th>\n",
       "      <td>Nagaland</td>\n",
       "      <td>2020</td>\n",
       "      <td>83.5</td>\n",
       "      <td>76.6</td>\n",
       "      <td>80.05</td>\n",
       "      <td>910</td>\n",
       "      <td>942</td>\n",
       "    </tr>\n",
       "    <tr>\n",
       "      <th>86</th>\n",
       "      <td>Nagaland</td>\n",
       "      <td>2021</td>\n",
       "      <td>83.3</td>\n",
       "      <td>76.9</td>\n",
       "      <td>80.10</td>\n",
       "      <td>912</td>\n",
       "      <td>944</td>\n",
       "    </tr>\n",
       "    <tr>\n",
       "      <th>101</th>\n",
       "      <td>Karnataka</td>\n",
       "      <td>2021</td>\n",
       "      <td>83.1</td>\n",
       "      <td>68.8</td>\n",
       "      <td>75.95</td>\n",
       "      <td>967</td>\n",
       "      <td>983</td>\n",
       "    </tr>\n",
       "    <tr>\n",
       "      <th>12</th>\n",
       "      <td>Nagaland</td>\n",
       "      <td>2019</td>\n",
       "      <td>82.8</td>\n",
       "      <td>76.1</td>\n",
       "      <td>79.45</td>\n",
       "      <td>908</td>\n",
       "      <td>940</td>\n",
       "    </tr>\n",
       "    <tr>\n",
       "      <th>64</th>\n",
       "      <td>Karnataka</td>\n",
       "      <td>2020</td>\n",
       "      <td>82.8</td>\n",
       "      <td>68.5</td>\n",
       "      <td>75.65</td>\n",
       "      <td>965</td>\n",
       "      <td>980</td>\n",
       "    </tr>\n",
       "    <tr>\n",
       "      <th>27</th>\n",
       "      <td>Karnataka</td>\n",
       "      <td>2019</td>\n",
       "      <td>82.5</td>\n",
       "      <td>68.1</td>\n",
       "      <td>75.30</td>\n",
       "      <td>963</td>\n",
       "      <td>979</td>\n",
       "    </tr>\n",
       "    <tr>\n",
       "      <th>92</th>\n",
       "      <td>West Bengal</td>\n",
       "      <td>2021</td>\n",
       "      <td>82.4</td>\n",
       "      <td>71.3</td>\n",
       "      <td>76.85</td>\n",
       "      <td>949</td>\n",
       "      <td>958</td>\n",
       "    </tr>\n",
       "    <tr>\n",
       "      <th>94</th>\n",
       "      <td>Odisha</td>\n",
       "      <td>2021</td>\n",
       "      <td>82.3</td>\n",
       "      <td>64.9</td>\n",
       "      <td>73.60</td>\n",
       "      <td>936</td>\n",
       "      <td>991</td>\n",
       "    </tr>\n",
       "    <tr>\n",
       "      <th>55</th>\n",
       "      <td>West Bengal</td>\n",
       "      <td>2020</td>\n",
       "      <td>82.0</td>\n",
       "      <td>70.9</td>\n",
       "      <td>76.45</td>\n",
       "      <td>947</td>\n",
       "      <td>955</td>\n",
       "    </tr>\n",
       "    <tr>\n",
       "      <th>57</th>\n",
       "      <td>Odisha</td>\n",
       "      <td>2020</td>\n",
       "      <td>81.9</td>\n",
       "      <td>64.5</td>\n",
       "      <td>73.20</td>\n",
       "      <td>934</td>\n",
       "      <td>989</td>\n",
       "    </tr>\n",
       "    <tr>\n",
       "      <th>18</th>\n",
       "      <td>West Bengal</td>\n",
       "      <td>2019</td>\n",
       "      <td>81.7</td>\n",
       "      <td>70.5</td>\n",
       "      <td>76.10</td>\n",
       "      <td>944</td>\n",
       "      <td>953</td>\n",
       "    </tr>\n",
       "    <tr>\n",
       "      <th>20</th>\n",
       "      <td>Odisha</td>\n",
       "      <td>2019</td>\n",
       "      <td>81.6</td>\n",
       "      <td>64.0</td>\n",
       "      <td>72.80</td>\n",
       "      <td>932</td>\n",
       "      <td>989</td>\n",
       "    </tr>\n",
       "    <tr>\n",
       "      <th>76</th>\n",
       "      <td>Punjab</td>\n",
       "      <td>2021</td>\n",
       "      <td>81.2</td>\n",
       "      <td>71.3</td>\n",
       "      <td>76.25</td>\n",
       "      <td>882</td>\n",
       "      <td>910</td>\n",
       "    </tr>\n",
       "    <tr>\n",
       "      <th>95</th>\n",
       "      <td>Chhattisgarh</td>\n",
       "      <td>2021</td>\n",
       "      <td>80.9</td>\n",
       "      <td>61.1</td>\n",
       "      <td>71.00</td>\n",
       "      <td>961</td>\n",
       "      <td>1003</td>\n",
       "    </tr>\n",
       "    <tr>\n",
       "      <th>77</th>\n",
       "      <td>Chandigarh</td>\n",
       "      <td>2021</td>\n",
       "      <td>80.9</td>\n",
       "      <td>61.1</td>\n",
       "      <td>71.00</td>\n",
       "      <td>961</td>\n",
       "      <td>1003</td>\n",
       "    </tr>\n",
       "    <tr>\n",
       "      <th>39</th>\n",
       "      <td>Punjab</td>\n",
       "      <td>2020</td>\n",
       "      <td>80.8</td>\n",
       "      <td>71.0</td>\n",
       "      <td>75.90</td>\n",
       "      <td>878</td>\n",
       "      <td>908</td>\n",
       "    </tr>\n",
       "    <tr>\n",
       "      <th>58</th>\n",
       "      <td>Chhattisgarh</td>\n",
       "      <td>2020</td>\n",
       "      <td>80.6</td>\n",
       "      <td>60.7</td>\n",
       "      <td>70.65</td>\n",
       "      <td>959</td>\n",
       "      <td>1002</td>\n",
       "    </tr>\n",
       "    <tr>\n",
       "      <th>40</th>\n",
       "      <td>Chandigarh</td>\n",
       "      <td>2020</td>\n",
       "      <td>80.6</td>\n",
       "      <td>60.7</td>\n",
       "      <td>70.65</td>\n",
       "      <td>959</td>\n",
       "      <td>1002</td>\n",
       "    </tr>\n",
       "    <tr>\n",
       "      <th>2</th>\n",
       "      <td>Punjab</td>\n",
       "      <td>2019</td>\n",
       "      <td>80.4</td>\n",
       "      <td>70.7</td>\n",
       "      <td>75.55</td>\n",
       "      <td>875</td>\n",
       "      <td>907</td>\n",
       "    </tr>\n",
       "    <tr>\n",
       "      <th>21</th>\n",
       "      <td>Chhattisgarh</td>\n",
       "      <td>2019</td>\n",
       "      <td>80.3</td>\n",
       "      <td>60.2</td>\n",
       "      <td>70.25</td>\n",
       "      <td>956</td>\n",
       "      <td>1001</td>\n",
       "    </tr>\n",
       "    <tr>\n",
       "      <th>3</th>\n",
       "      <td>Chandigarh</td>\n",
       "      <td>2019</td>\n",
       "      <td>80.3</td>\n",
       "      <td>60.2</td>\n",
       "      <td>70.25</td>\n",
       "      <td>956</td>\n",
       "      <td>1001</td>\n",
       "    </tr>\n",
       "    <tr>\n",
       "      <th>81</th>\n",
       "      <td>Rajasthan</td>\n",
       "      <td>2021</td>\n",
       "      <td>79.8</td>\n",
       "      <td>53.0</td>\n",
       "      <td>66.40</td>\n",
       "      <td>919</td>\n",
       "      <td>938</td>\n",
       "    </tr>\n",
       "    <tr>\n",
       "      <th>44</th>\n",
       "      <td>Rajasthan</td>\n",
       "      <td>2020</td>\n",
       "      <td>79.5</td>\n",
       "      <td>52.6</td>\n",
       "      <td>66.05</td>\n",
       "      <td>917</td>\n",
       "      <td>935</td>\n",
       "    </tr>\n",
       "    <tr>\n",
       "      <th>96</th>\n",
       "      <td>Madhya Pradesh</td>\n",
       "      <td>2021</td>\n",
       "      <td>79.3</td>\n",
       "      <td>60.2</td>\n",
       "      <td>69.75</td>\n",
       "      <td>923</td>\n",
       "      <td>942</td>\n",
       "    </tr>\n",
       "    <tr>\n",
       "      <th>7</th>\n",
       "      <td>Rajasthan</td>\n",
       "      <td>2019</td>\n",
       "      <td>79.2</td>\n",
       "      <td>52.1</td>\n",
       "      <td>65.65</td>\n",
       "      <td>914</td>\n",
       "      <td>933</td>\n",
       "    </tr>\n",
       "    <tr>\n",
       "      <th>59</th>\n",
       "      <td>Madhya Pradesh</td>\n",
       "      <td>2020</td>\n",
       "      <td>79.1</td>\n",
       "      <td>59.8</td>\n",
       "      <td>69.45</td>\n",
       "      <td>920</td>\n",
       "      <td>940</td>\n",
       "    </tr>\n",
       "    <tr>\n",
       "      <th>22</th>\n",
       "      <td>Madhya Pradesh</td>\n",
       "      <td>2019</td>\n",
       "      <td>78.7</td>\n",
       "      <td>59.2</td>\n",
       "      <td>68.95</td>\n",
       "      <td>918</td>\n",
       "      <td>936</td>\n",
       "    </tr>\n",
       "    <tr>\n",
       "      <th>91</th>\n",
       "      <td>Assam</td>\n",
       "      <td>2021</td>\n",
       "      <td>78.4</td>\n",
       "      <td>67.2</td>\n",
       "      <td>72.80</td>\n",
       "      <td>953</td>\n",
       "      <td>965</td>\n",
       "    </tr>\n",
       "    <tr>\n",
       "      <th>82</th>\n",
       "      <td>Uttar Pradesh</td>\n",
       "      <td>2021</td>\n",
       "      <td>78.2</td>\n",
       "      <td>58.0</td>\n",
       "      <td>68.10</td>\n",
       "      <td>889</td>\n",
       "      <td>921</td>\n",
       "    </tr>\n",
       "    <tr>\n",
       "      <th>54</th>\n",
       "      <td>Assam</td>\n",
       "      <td>2020</td>\n",
       "      <td>78.1</td>\n",
       "      <td>66.8</td>\n",
       "      <td>72.45</td>\n",
       "      <td>950</td>\n",
       "      <td>963</td>\n",
       "    </tr>\n",
       "    <tr>\n",
       "      <th>17</th>\n",
       "      <td>Assam</td>\n",
       "      <td>2019</td>\n",
       "      <td>77.8</td>\n",
       "      <td>66.3</td>\n",
       "      <td>72.05</td>\n",
       "      <td>946</td>\n",
       "      <td>960</td>\n",
       "    </tr>\n",
       "    <tr>\n",
       "      <th>45</th>\n",
       "      <td>Uttar Pradesh</td>\n",
       "      <td>2020</td>\n",
       "      <td>77.7</td>\n",
       "      <td>57.6</td>\n",
       "      <td>67.65</td>\n",
       "      <td>896</td>\n",
       "      <td>919</td>\n",
       "    </tr>\n",
       "    <tr>\n",
       "      <th>41</th>\n",
       "      <td>Uttarakhand</td>\n",
       "      <td>2020</td>\n",
       "      <td>77.7</td>\n",
       "      <td>57.6</td>\n",
       "      <td>67.65</td>\n",
       "      <td>896</td>\n",
       "      <td>919</td>\n",
       "    </tr>\n",
       "    <tr>\n",
       "      <th>74</th>\n",
       "      <td>Jammu and Kashmir</td>\n",
       "      <td>2021</td>\n",
       "      <td>77.5</td>\n",
       "      <td>57.0</td>\n",
       "      <td>67.25</td>\n",
       "      <td>852</td>\n",
       "      <td>912</td>\n",
       "    </tr>\n",
       "    <tr>\n",
       "      <th>93</th>\n",
       "      <td>Jharkhand</td>\n",
       "      <td>2021</td>\n",
       "      <td>77.4</td>\n",
       "      <td>56.1</td>\n",
       "      <td>66.75</td>\n",
       "      <td>914</td>\n",
       "      <td>981</td>\n",
       "    </tr>\n",
       "    <tr>\n",
       "      <th>8</th>\n",
       "      <td>Uttar Pradesh</td>\n",
       "      <td>2019</td>\n",
       "      <td>77.3</td>\n",
       "      <td>57.2</td>\n",
       "      <td>67.25</td>\n",
       "      <td>894</td>\n",
       "      <td>918</td>\n",
       "    </tr>\n",
       "    <tr>\n",
       "      <th>37</th>\n",
       "      <td>Jammu and Kashmir</td>\n",
       "      <td>2020</td>\n",
       "      <td>77.2</td>\n",
       "      <td>56.7</td>\n",
       "      <td>66.95</td>\n",
       "      <td>849</td>\n",
       "      <td>910</td>\n",
       "    </tr>\n",
       "    <tr>\n",
       "      <th>108</th>\n",
       "      <td>Telangana</td>\n",
       "      <td>2021</td>\n",
       "      <td>77.1</td>\n",
       "      <td>62.4</td>\n",
       "      <td>69.75</td>\n",
       "      <td>997</td>\n",
       "      <td>939</td>\n",
       "    </tr>\n",
       "    <tr>\n",
       "      <th>56</th>\n",
       "      <td>Jharkhand</td>\n",
       "      <td>2020</td>\n",
       "      <td>77.0</td>\n",
       "      <td>55.7</td>\n",
       "      <td>66.35</td>\n",
       "      <td>912</td>\n",
       "      <td>979</td>\n",
       "    </tr>\n",
       "    <tr>\n",
       "      <th>19</th>\n",
       "      <td>Jharkhand</td>\n",
       "      <td>2019</td>\n",
       "      <td>76.8</td>\n",
       "      <td>55.4</td>\n",
       "      <td>66.10</td>\n",
       "      <td>910</td>\n",
       "      <td>961</td>\n",
       "    </tr>\n",
       "    <tr>\n",
       "      <th>0</th>\n",
       "      <td>Jammu and Kashmir</td>\n",
       "      <td>2019</td>\n",
       "      <td>76.8</td>\n",
       "      <td>56.4</td>\n",
       "      <td>66.60</td>\n",
       "      <td>840</td>\n",
       "      <td>908</td>\n",
       "    </tr>\n",
       "    <tr>\n",
       "      <th>90</th>\n",
       "      <td>Meghalaya</td>\n",
       "      <td>2021</td>\n",
       "      <td>76.7</td>\n",
       "      <td>73.4</td>\n",
       "      <td>75.05</td>\n",
       "      <td>1001</td>\n",
       "      <td>987</td>\n",
       "    </tr>\n",
       "    <tr>\n",
       "      <th>71</th>\n",
       "      <td>Telangana</td>\n",
       "      <td>2020</td>\n",
       "      <td>76.7</td>\n",
       "      <td>62.0</td>\n",
       "      <td>69.35</td>\n",
       "      <td>997</td>\n",
       "      <td>936</td>\n",
       "    </tr>\n",
       "    <tr>\n",
       "      <th>53</th>\n",
       "      <td>Meghalaya</td>\n",
       "      <td>2020</td>\n",
       "      <td>76.4</td>\n",
       "      <td>73.1</td>\n",
       "      <td>74.75</td>\n",
       "      <td>1001</td>\n",
       "      <td>987</td>\n",
       "    </tr>\n",
       "    <tr>\n",
       "      <th>34</th>\n",
       "      <td>Telangana</td>\n",
       "      <td>2019</td>\n",
       "      <td>76.3</td>\n",
       "      <td>61.7</td>\n",
       "      <td>69.00</td>\n",
       "      <td>996</td>\n",
       "      <td>934</td>\n",
       "    </tr>\n",
       "    <tr>\n",
       "      <th>16</th>\n",
       "      <td>Meghalaya</td>\n",
       "      <td>2019</td>\n",
       "      <td>76.1</td>\n",
       "      <td>72.9</td>\n",
       "      <td>74.50</td>\n",
       "      <td>1001</td>\n",
       "      <td>986</td>\n",
       "    </tr>\n",
       "    <tr>\n",
       "      <th>109</th>\n",
       "      <td>Andhra Pradesh</td>\n",
       "      <td>2021</td>\n",
       "      <td>75.8</td>\n",
       "      <td>60.2</td>\n",
       "      <td>68.00</td>\n",
       "      <td>990</td>\n",
       "      <td>996</td>\n",
       "    </tr>\n",
       "    <tr>\n",
       "      <th>72</th>\n",
       "      <td>Andhra Pradesh</td>\n",
       "      <td>2020</td>\n",
       "      <td>75.4</td>\n",
       "      <td>59.9</td>\n",
       "      <td>67.65</td>\n",
       "      <td>989</td>\n",
       "      <td>996</td>\n",
       "    </tr>\n",
       "    <tr>\n",
       "      <th>35</th>\n",
       "      <td>Andhra Pradesh</td>\n",
       "      <td>2019</td>\n",
       "      <td>74.9</td>\n",
       "      <td>59.1</td>\n",
       "      <td>67.00</td>\n",
       "      <td>987</td>\n",
       "      <td>996</td>\n",
       "    </tr>\n",
       "    <tr>\n",
       "      <th>85</th>\n",
       "      <td>Arunachal Pradesh</td>\n",
       "      <td>2021</td>\n",
       "      <td>73.2</td>\n",
       "      <td>58.5</td>\n",
       "      <td>65.85</td>\n",
       "      <td>898</td>\n",
       "      <td>957</td>\n",
       "    </tr>\n",
       "    <tr>\n",
       "      <th>48</th>\n",
       "      <td>Arunachal Pradesh</td>\n",
       "      <td>2020</td>\n",
       "      <td>72.9</td>\n",
       "      <td>58.1</td>\n",
       "      <td>65.50</td>\n",
       "      <td>895</td>\n",
       "      <td>955</td>\n",
       "    </tr>\n",
       "    <tr>\n",
       "      <th>11</th>\n",
       "      <td>Arunachal Pradesh</td>\n",
       "      <td>2019</td>\n",
       "      <td>72.6</td>\n",
       "      <td>57.7</td>\n",
       "      <td>65.15</td>\n",
       "      <td>890</td>\n",
       "      <td>953</td>\n",
       "    </tr>\n",
       "    <tr>\n",
       "      <th>83</th>\n",
       "      <td>Bihar</td>\n",
       "      <td>2021</td>\n",
       "      <td>72.0</td>\n",
       "      <td>52.4</td>\n",
       "      <td>62.20</td>\n",
       "      <td>901</td>\n",
       "      <td>925</td>\n",
       "    </tr>\n",
       "    <tr>\n",
       "      <th>46</th>\n",
       "      <td>Bihar</td>\n",
       "      <td>2020</td>\n",
       "      <td>71.7</td>\n",
       "      <td>52.1</td>\n",
       "      <td>61.90</td>\n",
       "      <td>898</td>\n",
       "      <td>923</td>\n",
       "    </tr>\n",
       "    <tr>\n",
       "      <th>9</th>\n",
       "      <td>Bihar</td>\n",
       "      <td>2019</td>\n",
       "      <td>71.2</td>\n",
       "      <td>51.5</td>\n",
       "      <td>61.35</td>\n",
       "      <td>895</td>\n",
       "      <td>921</td>\n",
       "    </tr>\n",
       "  </tbody>\n",
       "</table>\n",
       "</div>"
      ],
      "text/plain": [
       "                           State  Year  Literacy_M  Literacy_F  \\\n",
       "104                       Kerala  2021        96.9        92.6   \n",
       "103                  Lakshadweep  2021        96.8        88.8   \n",
       "67                        Kerala  2020        96.6        92.4   \n",
       "66                   Lakshadweep  2020        96.2        88.2   \n",
       "30                        Kerala  2019        96.1        92.1   \n",
       "29                   Lakshadweep  2019        95.6        87.9   \n",
       "88                       Mizoram  2021        94.1        90.0   \n",
       "51                       Mizoram  2020        93.7        89.7   \n",
       "14                       Mizoram  2019        93.3        89.3   \n",
       "102                          Goa  2021        93.2        85.5   \n",
       "65                           Goa  2020        92.9        85.1   \n",
       "98                 Daman and Diu  2021        92.7        80.7   \n",
       "28                           Goa  2019        92.6        84.7   \n",
       "89                       Tripura  2021        92.2        83.5   \n",
       "61                 Daman and Diu  2020        92.1        80.1   \n",
       "106                   Puducherry  2021        92.1        81.7   \n",
       "80                         Delhi  2021        91.8        81.8   \n",
       "52                       Tripura  2020        91.8        83.2   \n",
       "69                    Puducherry  2020        91.7        81.2   \n",
       "24                 Daman and Diu  2019        91.5        79.5   \n",
       "15                       Tripura  2019        91.5        82.7   \n",
       "43                         Delhi  2020        91.4        81.3   \n",
       "32                    Puducherry  2019        91.3        80.7   \n",
       "107  Andaman and Nicobar Islands  2021        91.1        83.1   \n",
       "6                          Delhi  2019        90.9        80.8   \n",
       "70   Andaman and Nicobar Islands  2020        90.7        82.7   \n",
       "75              Himachal Pradesh  2021        90.4        76.9   \n",
       "33   Andaman and Nicobar Islands  2019        90.3        82.4   \n",
       "38              Himachal Pradesh  2020        90.1        76.5   \n",
       "1               Himachal Pradesh  2019        89.5        75.9   \n",
       "100                  Maharashtra  2021        89.2        76.6   \n",
       "63                   Maharashtra  2020        88.8        76.2   \n",
       "26                   Maharashtra  2019        88.4        75.9   \n",
       "78                   Uttarakhand  2021        88.2        70.7   \n",
       "105                   Tamil Nadu  2021        87.5        74.1   \n",
       "4                    Uttarakhand  2019        87.4        70.1   \n",
       "84                        Sikkim  2021        87.2        76.3   \n",
       "68                    Tamil Nadu  2020        87.1        73.6   \n",
       "47                        Sikkim  2020        86.9        75.9   \n",
       "31                    Tamil Nadu  2019        86.8        73.4   \n",
       "110                       Ladakh  2021        86.7        70.6   \n",
       "10                        Sikkim  2019        86.6        75.6   \n",
       "97                       Gujarat  2021        86.4        70.5   \n",
       "99        Dadra and Nagar Haveli  2021        86.2        65.7   \n",
       "60                       Gujarat  2020        86.1        70.1   \n",
       "73                        Ladakh  2020        86.1        70.1   \n",
       "23                       Gujarat  2019        85.8        69.7   \n",
       "36                        Ladakh  2019        85.7        69.6   \n",
       "62        Dadra and Nagar Haveli  2020        85.7        65.1   \n",
       "25        Dadra and Nagar Haveli  2019        85.2        64.3   \n",
       "79                       Haryana  2021        84.8        66.5   \n",
       "42                       Haryana  2020        84.5        66.2   \n",
       "87                       Manipur  2021        84.3        71.0   \n",
       "5                        Haryana  2019        84.1        65.9   \n",
       "50                       Manipur  2020        83.9        70.7   \n",
       "13                       Manipur  2019        83.6        70.3   \n",
       "49                      Nagaland  2020        83.5        76.6   \n",
       "86                      Nagaland  2021        83.3        76.9   \n",
       "101                    Karnataka  2021        83.1        68.8   \n",
       "12                      Nagaland  2019        82.8        76.1   \n",
       "64                     Karnataka  2020        82.8        68.5   \n",
       "27                     Karnataka  2019        82.5        68.1   \n",
       "92                   West Bengal  2021        82.4        71.3   \n",
       "94                        Odisha  2021        82.3        64.9   \n",
       "55                   West Bengal  2020        82.0        70.9   \n",
       "57                        Odisha  2020        81.9        64.5   \n",
       "18                   West Bengal  2019        81.7        70.5   \n",
       "20                        Odisha  2019        81.6        64.0   \n",
       "76                        Punjab  2021        81.2        71.3   \n",
       "95                  Chhattisgarh  2021        80.9        61.1   \n",
       "77                    Chandigarh  2021        80.9        61.1   \n",
       "39                        Punjab  2020        80.8        71.0   \n",
       "58                  Chhattisgarh  2020        80.6        60.7   \n",
       "40                    Chandigarh  2020        80.6        60.7   \n",
       "2                         Punjab  2019        80.4        70.7   \n",
       "21                  Chhattisgarh  2019        80.3        60.2   \n",
       "3                     Chandigarh  2019        80.3        60.2   \n",
       "81                     Rajasthan  2021        79.8        53.0   \n",
       "44                     Rajasthan  2020        79.5        52.6   \n",
       "96                Madhya Pradesh  2021        79.3        60.2   \n",
       "7                      Rajasthan  2019        79.2        52.1   \n",
       "59                Madhya Pradesh  2020        79.1        59.8   \n",
       "22                Madhya Pradesh  2019        78.7        59.2   \n",
       "91                         Assam  2021        78.4        67.2   \n",
       "82                 Uttar Pradesh  2021        78.2        58.0   \n",
       "54                         Assam  2020        78.1        66.8   \n",
       "17                         Assam  2019        77.8        66.3   \n",
       "45                 Uttar Pradesh  2020        77.7        57.6   \n",
       "41                   Uttarakhand  2020        77.7        57.6   \n",
       "74             Jammu and Kashmir  2021        77.5        57.0   \n",
       "93                     Jharkhand  2021        77.4        56.1   \n",
       "8                  Uttar Pradesh  2019        77.3        57.2   \n",
       "37             Jammu and Kashmir  2020        77.2        56.7   \n",
       "108                    Telangana  2021        77.1        62.4   \n",
       "56                     Jharkhand  2020        77.0        55.7   \n",
       "19                     Jharkhand  2019        76.8        55.4   \n",
       "0              Jammu and Kashmir  2019        76.8        56.4   \n",
       "90                     Meghalaya  2021        76.7        73.4   \n",
       "71                     Telangana  2020        76.7        62.0   \n",
       "53                     Meghalaya  2020        76.4        73.1   \n",
       "34                     Telangana  2019        76.3        61.7   \n",
       "16                     Meghalaya  2019        76.1        72.9   \n",
       "109               Andhra Pradesh  2021        75.8        60.2   \n",
       "72                Andhra Pradesh  2020        75.4        59.9   \n",
       "35                Andhra Pradesh  2019        74.9        59.1   \n",
       "85             Arunachal Pradesh  2021        73.2        58.5   \n",
       "48             Arunachal Pradesh  2020        72.9        58.1   \n",
       "11             Arunachal Pradesh  2019        72.6        57.7   \n",
       "83                         Bihar  2021        72.0        52.4   \n",
       "46                         Bihar  2020        71.7        52.1   \n",
       "9                          Bihar  2019        71.2        51.5   \n",
       "\n",
       "     Literacy_Average  Sex_Ratio_Urban  Sex_Ratio_Rural  \n",
       "104             94.75             1091             1079  \n",
       "103             92.80              963              954  \n",
       "67              94.50             1091             1079  \n",
       "66              92.20              959              950  \n",
       "30              94.10             1091             1078  \n",
       "29              91.75              954              944  \n",
       "88              92.05              998              957  \n",
       "51              91.70              998              955  \n",
       "14              91.30              998              952  \n",
       "102             89.35              958             1004  \n",
       "65              89.00              955             1004  \n",
       "98              86.70              877              559  \n",
       "28              88.65              953             1003  \n",
       "89              87.85              978              958  \n",
       "61              86.10              873              555  \n",
       "106             86.90             1040             1051  \n",
       "80              86.80              858              879  \n",
       "52              87.50              975              956  \n",
       "69              86.45             1035             1047  \n",
       "24              85.50              867              550  \n",
       "15              87.10              973              955  \n",
       "43              86.35              853              875  \n",
       "32              86.00             1029             1043  \n",
       "107             87.10              883              902  \n",
       "6               85.85              847              867  \n",
       "70              86.70              877              897  \n",
       "75              83.65              858              989  \n",
       "33              86.35              871              891  \n",
       "38              83.30              855              987  \n",
       "1               82.70              853              986  \n",
       "100             82.90              909              957  \n",
       "63              82.50              907              955  \n",
       "26              82.15              903              952  \n",
       "78              79.45              889             1000  \n",
       "105             80.80             1000              996  \n",
       "4               78.75              884             1000  \n",
       "84              81.75              918              889  \n",
       "68              80.35             1000              994  \n",
       "47              81.40              915              886  \n",
       "31              80.10             1000              993  \n",
       "110             78.65              971              990  \n",
       "10              81.10              913              882  \n",
       "97              78.45              886              951  \n",
       "99              75.95              873              695  \n",
       "60              78.10              884              949  \n",
       "73              78.10              967              985  \n",
       "23              77.75              880              949  \n",
       "36              77.65              963              979  \n",
       "62              75.40              867              689  \n",
       "25              74.75              863              684  \n",
       "79              75.65              880              890  \n",
       "42              75.35              877              885  \n",
       "87              77.65             1026              972  \n",
       "5               75.00              873              882  \n",
       "50              77.30             1026              971  \n",
       "13              76.95             1026              969  \n",
       "49              80.05              910              942  \n",
       "86              80.10              912              944  \n",
       "101             75.95              967              983  \n",
       "12              79.45              908              940  \n",
       "64              75.65              965              980  \n",
       "27              75.30              963              979  \n",
       "92              76.85              949              958  \n",
       "94              73.60              936              991  \n",
       "55              76.45              947              955  \n",
       "57              73.20              934              989  \n",
       "18              76.10              944              953  \n",
       "20              72.80              932              989  \n",
       "76              76.25              882              910  \n",
       "95              71.00              961             1003  \n",
       "77              71.00              961             1003  \n",
       "39              75.90              878              908  \n",
       "58              70.65              959             1002  \n",
       "40              70.65              959             1002  \n",
       "2               75.55              875              907  \n",
       "21              70.25              956             1001  \n",
       "3               70.25              956             1001  \n",
       "81              66.40              919              938  \n",
       "44              66.05              917              935  \n",
       "96              69.75              923              942  \n",
       "7               65.65              914              933  \n",
       "59              69.45              920              940  \n",
       "22              68.95              918              936  \n",
       "91              72.80              953              965  \n",
       "82              68.10              889              921  \n",
       "54              72.45              950              963  \n",
       "17              72.05              946              960  \n",
       "45              67.65              896              919  \n",
       "41              67.65              896              919  \n",
       "74              67.25              852              912  \n",
       "93              66.75              914              981  \n",
       "8               67.25              894              918  \n",
       "37              66.95              849              910  \n",
       "108             69.75              997              939  \n",
       "56              66.35              912              979  \n",
       "19              66.10              910              961  \n",
       "0               66.60              840              908  \n",
       "90              75.05             1001              987  \n",
       "71              69.35              997              936  \n",
       "53              74.75             1001              987  \n",
       "34              69.00              996              934  \n",
       "16              74.50             1001              986  \n",
       "109             68.00              990              996  \n",
       "72              67.65              989              996  \n",
       "35              67.00              987              996  \n",
       "85              65.85              898              957  \n",
       "48              65.50              895              955  \n",
       "11              65.15              890              953  \n",
       "83              62.20              901              925  \n",
       "46              61.90              898              923  \n",
       "9               61.35              895              921  "
      ]
     },
     "execution_count": 7,
     "metadata": {},
     "output_type": "execute_result"
    }
   ],
   "source": [
    "#Highest Male Literacy states\n",
    "data.sort_values(by = 'Literacy_M' , ascending = False)"
   ]
  },
  {
   "cell_type": "code",
   "execution_count": 45,
   "metadata": {},
   "outputs": [
    {
     "data": {
      "text/plain": [
       "<AxesSubplot:xlabel='Literacy_M', ylabel='Density'>"
      ]
     },
     "execution_count": 45,
     "metadata": {},
     "output_type": "execute_result"
    },
    {
     "data": {
      "image/png": "[encoded data removed]",
      "text/plain": [
       "<Figure size 600x400 with 1 Axes>"
      ]
     },
     "metadata": {},
     "output_type": "display_data"
    }
   ],
   "source": [
    "## ANalsyzing Literacy_M\n",
    "sns.distplot(data.Literacy_M)\n",
    "## Normal distribution"
   ]
  },
  {
   "cell_type": "code",
   "execution_count": null,
   "metadata": {},
   "outputs": [],
   "source": []
  },
  {
   "cell_type": "code",
   "execution_count": null,
   "metadata": {},
   "outputs": [],
   "source": []
  },
  {
   "cell_type": "markdown",
   "metadata": {},
   "source": [
    "### Literacy_F"
   ]
  },
  {
   "cell_type": "code",
   "execution_count": 46,
   "metadata": {},
   "outputs": [
    {
     "name": "stdout",
     "output_type": "stream",
     "text": [
      "70.3036036036036 is the Average Literacy_F \n"
     ]
    }
   ],
   "source": [
    "avg = data['Literacy_F'].mean()\n",
    "print(str(avg) + \" is the Average Literacy_F \")"
   ]
  },
  {
   "cell_type": "code",
   "execution_count": 47,
   "metadata": {},
   "outputs": [
    {
     "data": {
      "text/plain": [
       "7803.700000000001"
      ]
     },
     "execution_count": 47,
     "metadata": {},
     "output_type": "execute_result"
    }
   ],
   "source": [
    "total_Literacy_F = data['Literacy_F'].sum()\n",
    "total_Literacy_F  "
   ]
  },
  {
   "cell_type": "code",
   "execution_count": 48,
   "metadata": {},
   "outputs": [
    {
     "data": {
      "text/html": [
       "<div>\n",
       "<style scoped>\n",
       "    .dataframe tbody tr th:only-of-type {\n",
       "        vertical-align: middle;\n",
       "    }\n",
       "\n",
       "    .dataframe tbody tr th {\n",
       "        vertical-align: top;\n",
       "    }\n",
       "\n",
       "    .dataframe thead th {\n",
       "        text-align: right;\n",
       "    }\n",
       "</style>\n",
       "<table border=\"1\" class=\"dataframe\">\n",
       "  <thead>\n",
       "    <tr style=\"text-align: right;\">\n",
       "      <th></th>\n",
       "      <th>State</th>\n",
       "      <th>Year</th>\n",
       "      <th>Literacy_M</th>\n",
       "      <th>Literacy_F</th>\n",
       "      <th>Literacy_Average</th>\n",
       "      <th>Sex_Ratio_Urban</th>\n",
       "      <th>Sex_Ratio_Rural</th>\n",
       "    </tr>\n",
       "  </thead>\n",
       "  <tbody>\n",
       "    <tr>\n",
       "      <th>9</th>\n",
       "      <td>Bihar</td>\n",
       "      <td>2019</td>\n",
       "      <td>71.2</td>\n",
       "      <td>51.5</td>\n",
       "      <td>61.35</td>\n",
       "      <td>895</td>\n",
       "      <td>921</td>\n",
       "    </tr>\n",
       "    <tr>\n",
       "      <th>46</th>\n",
       "      <td>Bihar</td>\n",
       "      <td>2020</td>\n",
       "      <td>71.7</td>\n",
       "      <td>52.1</td>\n",
       "      <td>61.90</td>\n",
       "      <td>898</td>\n",
       "      <td>923</td>\n",
       "    </tr>\n",
       "    <tr>\n",
       "      <th>7</th>\n",
       "      <td>Rajasthan</td>\n",
       "      <td>2019</td>\n",
       "      <td>79.2</td>\n",
       "      <td>52.1</td>\n",
       "      <td>65.65</td>\n",
       "      <td>914</td>\n",
       "      <td>933</td>\n",
       "    </tr>\n",
       "    <tr>\n",
       "      <th>83</th>\n",
       "      <td>Bihar</td>\n",
       "      <td>2021</td>\n",
       "      <td>72.0</td>\n",
       "      <td>52.4</td>\n",
       "      <td>62.20</td>\n",
       "      <td>901</td>\n",
       "      <td>925</td>\n",
       "    </tr>\n",
       "    <tr>\n",
       "      <th>44</th>\n",
       "      <td>Rajasthan</td>\n",
       "      <td>2020</td>\n",
       "      <td>79.5</td>\n",
       "      <td>52.6</td>\n",
       "      <td>66.05</td>\n",
       "      <td>917</td>\n",
       "      <td>935</td>\n",
       "    </tr>\n",
       "  </tbody>\n",
       "</table>\n",
       "</div>"
      ],
      "text/plain": [
       "        State  Year  Literacy_M  Literacy_F  Literacy_Average  \\\n",
       "9       Bihar  2019        71.2        51.5             61.35   \n",
       "46      Bihar  2020        71.7        52.1             61.90   \n",
       "7   Rajasthan  2019        79.2        52.1             65.65   \n",
       "83      Bihar  2021        72.0        52.4             62.20   \n",
       "44  Rajasthan  2020        79.5        52.6             66.05   \n",
       "\n",
       "    Sex_Ratio_Urban  Sex_Ratio_Rural  \n",
       "9               895              921  \n",
       "46              898              923  \n",
       "7               914              933  \n",
       "83              901              925  \n",
       "44              917              935  "
      ]
     },
     "execution_count": 48,
     "metadata": {},
     "output_type": "execute_result"
    }
   ],
   "source": [
    "#lowest Female Literacy states\n",
    "data.sort_values(by = 'Literacy_F' , ascending = True).head()"
   ]
  },
  {
   "cell_type": "code",
   "execution_count": 49,
   "metadata": {},
   "outputs": [
    {
     "data": {
      "text/html": [
       "<div>\n",
       "<style scoped>\n",
       "    .dataframe tbody tr th:only-of-type {\n",
       "        vertical-align: middle;\n",
       "    }\n",
       "\n",
       "    .dataframe tbody tr th {\n",
       "        vertical-align: top;\n",
       "    }\n",
       "\n",
       "    .dataframe thead th {\n",
       "        text-align: right;\n",
       "    }\n",
       "</style>\n",
       "<table border=\"1\" class=\"dataframe\">\n",
       "  <thead>\n",
       "    <tr style=\"text-align: right;\">\n",
       "      <th></th>\n",
       "      <th>State</th>\n",
       "      <th>Year</th>\n",
       "      <th>Literacy_M</th>\n",
       "      <th>Literacy_F</th>\n",
       "      <th>Literacy_Average</th>\n",
       "      <th>Sex_Ratio_Urban</th>\n",
       "      <th>Sex_Ratio_Rural</th>\n",
       "    </tr>\n",
       "  </thead>\n",
       "  <tbody>\n",
       "    <tr>\n",
       "      <th>104</th>\n",
       "      <td>Kerala</td>\n",
       "      <td>2021</td>\n",
       "      <td>96.9</td>\n",
       "      <td>92.6</td>\n",
       "      <td>94.75</td>\n",
       "      <td>1091</td>\n",
       "      <td>1079</td>\n",
       "    </tr>\n",
       "    <tr>\n",
       "      <th>67</th>\n",
       "      <td>Kerala</td>\n",
       "      <td>2020</td>\n",
       "      <td>96.6</td>\n",
       "      <td>92.4</td>\n",
       "      <td>94.50</td>\n",
       "      <td>1091</td>\n",
       "      <td>1079</td>\n",
       "    </tr>\n",
       "    <tr>\n",
       "      <th>30</th>\n",
       "      <td>Kerala</td>\n",
       "      <td>2019</td>\n",
       "      <td>96.1</td>\n",
       "      <td>92.1</td>\n",
       "      <td>94.10</td>\n",
       "      <td>1091</td>\n",
       "      <td>1078</td>\n",
       "    </tr>\n",
       "    <tr>\n",
       "      <th>88</th>\n",
       "      <td>Mizoram</td>\n",
       "      <td>2021</td>\n",
       "      <td>94.1</td>\n",
       "      <td>90.0</td>\n",
       "      <td>92.05</td>\n",
       "      <td>998</td>\n",
       "      <td>957</td>\n",
       "    </tr>\n",
       "    <tr>\n",
       "      <th>51</th>\n",
       "      <td>Mizoram</td>\n",
       "      <td>2020</td>\n",
       "      <td>93.7</td>\n",
       "      <td>89.7</td>\n",
       "      <td>91.70</td>\n",
       "      <td>998</td>\n",
       "      <td>955</td>\n",
       "    </tr>\n",
       "  </tbody>\n",
       "</table>\n",
       "</div>"
      ],
      "text/plain": [
       "       State  Year  Literacy_M  Literacy_F  Literacy_Average  Sex_Ratio_Urban  \\\n",
       "104   Kerala  2021        96.9        92.6             94.75             1091   \n",
       "67    Kerala  2020        96.6        92.4             94.50             1091   \n",
       "30    Kerala  2019        96.1        92.1             94.10             1091   \n",
       "88   Mizoram  2021        94.1        90.0             92.05              998   \n",
       "51   Mizoram  2020        93.7        89.7             91.70              998   \n",
       "\n",
       "     Sex_Ratio_Rural  \n",
       "104             1079  \n",
       "67              1079  \n",
       "30              1078  \n",
       "88               957  \n",
       "51               955  "
      ]
     },
     "execution_count": 49,
     "metadata": {},
     "output_type": "execute_result"
    }
   ],
   "source": [
    "#lowest Female Literacy states\n",
    "data.sort_values(by = 'Literacy_F' , ascending = False).head()"
   ]
  },
  {
   "cell_type": "code",
   "execution_count": 50,
   "metadata": {},
   "outputs": [
    {
     "data": {
      "text/plain": [
       "<AxesSubplot:xlabel='Literacy_F', ylabel='Density'>"
      ]
     },
     "execution_count": 50,
     "metadata": {},
     "output_type": "execute_result"
    },
    {
     "data": {
      "image/png": "[encoded data removed]",
      "text/plain": [
       "<Figure size 600x400 with 1 Axes>"
      ]
     },
     "metadata": {},
     "output_type": "display_data"
    }
   ],
   "source": [
    "## ANalsyzing Literacy_F\n",
    "sns.distplot(data.Literacy_F)\n",
    "## Not Normal distribution"
   ]
  },
  {
   "cell_type": "code",
   "execution_count": null,
   "metadata": {},
   "outputs": [],
   "source": []
  },
  {
   "cell_type": "code",
   "execution_count": null,
   "metadata": {},
   "outputs": [],
   "source": []
  },
  {
   "cell_type": "markdown",
   "metadata": {},
   "source": [
    "### Literacy_Average"
   ]
  },
  {
   "cell_type": "code",
   "execution_count": 51,
   "metadata": {},
   "outputs": [
    {
     "name": "stdout",
     "output_type": "stream",
     "text": [
      "77.23603603603604 is the Average Literacy_Average\n"
     ]
    }
   ],
   "source": [
    "avg = data['Literacy_Average'].mean()\n",
    "print(str(avg) + \" is the Average Literacy_Average\")"
   ]
  },
  {
   "cell_type": "code",
   "execution_count": 52,
   "metadata": {},
   "outputs": [
    {
     "data": {
      "text/plain": [
       "8573.2"
      ]
     },
     "execution_count": 52,
     "metadata": {},
     "output_type": "execute_result"
    }
   ],
   "source": [
    "total_Literacy_Average=data['Literacy_Average'].sum()\n",
    "total_Literacy_Average   "
   ]
  },
  {
   "cell_type": "code",
   "execution_count": 53,
   "metadata": {
    "scrolled": true
   },
   "outputs": [
    {
     "data": {
      "text/html": [
       "<div>\n",
       "<style scoped>\n",
       "    .dataframe tbody tr th:only-of-type {\n",
       "        vertical-align: middle;\n",
       "    }\n",
       "\n",
       "    .dataframe tbody tr th {\n",
       "        vertical-align: top;\n",
       "    }\n",
       "\n",
       "    .dataframe thead th {\n",
       "        text-align: right;\n",
       "    }\n",
       "</style>\n",
       "<table border=\"1\" class=\"dataframe\">\n",
       "  <thead>\n",
       "    <tr style=\"text-align: right;\">\n",
       "      <th></th>\n",
       "      <th>State</th>\n",
       "      <th>Year</th>\n",
       "      <th>Literacy_M</th>\n",
       "      <th>Literacy_F</th>\n",
       "      <th>Literacy_Average</th>\n",
       "      <th>Sex_Ratio_Urban</th>\n",
       "      <th>Sex_Ratio_Rural</th>\n",
       "    </tr>\n",
       "  </thead>\n",
       "  <tbody>\n",
       "    <tr>\n",
       "      <th>9</th>\n",
       "      <td>Bihar</td>\n",
       "      <td>2019</td>\n",
       "      <td>71.2</td>\n",
       "      <td>51.5</td>\n",
       "      <td>61.35</td>\n",
       "      <td>895</td>\n",
       "      <td>921</td>\n",
       "    </tr>\n",
       "    <tr>\n",
       "      <th>46</th>\n",
       "      <td>Bihar</td>\n",
       "      <td>2020</td>\n",
       "      <td>71.7</td>\n",
       "      <td>52.1</td>\n",
       "      <td>61.90</td>\n",
       "      <td>898</td>\n",
       "      <td>923</td>\n",
       "    </tr>\n",
       "    <tr>\n",
       "      <th>83</th>\n",
       "      <td>Bihar</td>\n",
       "      <td>2021</td>\n",
       "      <td>72.0</td>\n",
       "      <td>52.4</td>\n",
       "      <td>62.20</td>\n",
       "      <td>901</td>\n",
       "      <td>925</td>\n",
       "    </tr>\n",
       "    <tr>\n",
       "      <th>11</th>\n",
       "      <td>Arunachal Pradesh</td>\n",
       "      <td>2019</td>\n",
       "      <td>72.6</td>\n",
       "      <td>57.7</td>\n",
       "      <td>65.15</td>\n",
       "      <td>890</td>\n",
       "      <td>953</td>\n",
       "    </tr>\n",
       "    <tr>\n",
       "      <th>48</th>\n",
       "      <td>Arunachal Pradesh</td>\n",
       "      <td>2020</td>\n",
       "      <td>72.9</td>\n",
       "      <td>58.1</td>\n",
       "      <td>65.50</td>\n",
       "      <td>895</td>\n",
       "      <td>955</td>\n",
       "    </tr>\n",
       "  </tbody>\n",
       "</table>\n",
       "</div>"
      ],
      "text/plain": [
       "                State  Year  Literacy_M  Literacy_F  Literacy_Average  \\\n",
       "9               Bihar  2019        71.2        51.5             61.35   \n",
       "46              Bihar  2020        71.7        52.1             61.90   \n",
       "83              Bihar  2021        72.0        52.4             62.20   \n",
       "11  Arunachal Pradesh  2019        72.6        57.7             65.15   \n",
       "48  Arunachal Pradesh  2020        72.9        58.1             65.50   \n",
       "\n",
       "    Sex_Ratio_Urban  Sex_Ratio_Rural  \n",
       "9               895              921  \n",
       "46              898              923  \n",
       "83              901              925  \n",
       "11              890              953  \n",
       "48              895              955  "
      ]
     },
     "execution_count": 53,
     "metadata": {},
     "output_type": "execute_result"
    }
   ],
   "source": [
    "#lowest Literacy AVG for states\n",
    "data.sort_values(by = 'Literacy_Average' , ascending = True).head()"
   ]
  },
  {
   "cell_type": "code",
   "execution_count": 54,
   "metadata": {},
   "outputs": [
    {
     "data": {
      "text/html": [
       "<div>\n",
       "<style scoped>\n",
       "    .dataframe tbody tr th:only-of-type {\n",
       "        vertical-align: middle;\n",
       "    }\n",
       "\n",
       "    .dataframe tbody tr th {\n",
       "        vertical-align: top;\n",
       "    }\n",
       "\n",
       "    .dataframe thead th {\n",
       "        text-align: right;\n",
       "    }\n",
       "</style>\n",
       "<table border=\"1\" class=\"dataframe\">\n",
       "  <thead>\n",
       "    <tr style=\"text-align: right;\">\n",
       "      <th></th>\n",
       "      <th>State</th>\n",
       "      <th>Year</th>\n",
       "      <th>Literacy_M</th>\n",
       "      <th>Literacy_F</th>\n",
       "      <th>Literacy_Average</th>\n",
       "      <th>Sex_Ratio_Urban</th>\n",
       "      <th>Sex_Ratio_Rural</th>\n",
       "    </tr>\n",
       "  </thead>\n",
       "  <tbody>\n",
       "    <tr>\n",
       "      <th>104</th>\n",
       "      <td>Kerala</td>\n",
       "      <td>2021</td>\n",
       "      <td>96.9</td>\n",
       "      <td>92.6</td>\n",
       "      <td>94.75</td>\n",
       "      <td>1091</td>\n",
       "      <td>1079</td>\n",
       "    </tr>\n",
       "    <tr>\n",
       "      <th>67</th>\n",
       "      <td>Kerala</td>\n",
       "      <td>2020</td>\n",
       "      <td>96.6</td>\n",
       "      <td>92.4</td>\n",
       "      <td>94.50</td>\n",
       "      <td>1091</td>\n",
       "      <td>1079</td>\n",
       "    </tr>\n",
       "    <tr>\n",
       "      <th>30</th>\n",
       "      <td>Kerala</td>\n",
       "      <td>2019</td>\n",
       "      <td>96.1</td>\n",
       "      <td>92.1</td>\n",
       "      <td>94.10</td>\n",
       "      <td>1091</td>\n",
       "      <td>1078</td>\n",
       "    </tr>\n",
       "    <tr>\n",
       "      <th>103</th>\n",
       "      <td>Lakshadweep</td>\n",
       "      <td>2021</td>\n",
       "      <td>96.8</td>\n",
       "      <td>88.8</td>\n",
       "      <td>92.80</td>\n",
       "      <td>963</td>\n",
       "      <td>954</td>\n",
       "    </tr>\n",
       "    <tr>\n",
       "      <th>66</th>\n",
       "      <td>Lakshadweep</td>\n",
       "      <td>2020</td>\n",
       "      <td>96.2</td>\n",
       "      <td>88.2</td>\n",
       "      <td>92.20</td>\n",
       "      <td>959</td>\n",
       "      <td>950</td>\n",
       "    </tr>\n",
       "  </tbody>\n",
       "</table>\n",
       "</div>"
      ],
      "text/plain": [
       "           State  Year  Literacy_M  Literacy_F  Literacy_Average  \\\n",
       "104       Kerala  2021        96.9        92.6             94.75   \n",
       "67        Kerala  2020        96.6        92.4             94.50   \n",
       "30        Kerala  2019        96.1        92.1             94.10   \n",
       "103  Lakshadweep  2021        96.8        88.8             92.80   \n",
       "66   Lakshadweep  2020        96.2        88.2             92.20   \n",
       "\n",
       "     Sex_Ratio_Urban  Sex_Ratio_Rural  \n",
       "104             1091             1079  \n",
       "67              1091             1079  \n",
       "30              1091             1078  \n",
       "103              963              954  \n",
       "66               959              950  "
      ]
     },
     "execution_count": 54,
     "metadata": {},
     "output_type": "execute_result"
    }
   ],
   "source": [
    "#Highest Literacy AVG for states\n",
    "data.sort_values(by = 'Literacy_Average' , ascending = False).head()"
   ]
  },
  {
   "cell_type": "code",
   "execution_count": 55,
   "metadata": {},
   "outputs": [
    {
     "data": {
      "text/plain": [
       "<AxesSubplot:xlabel='Literacy_Average', ylabel='Density'>"
      ]
     },
     "execution_count": 55,
     "metadata": {},
     "output_type": "execute_result"
    },
    {
     "data": {
      "image/png": "[encoded data removed]",
      "text/plain": [
       "<Figure size 600x400 with 1 Axes>"
      ]
     },
     "metadata": {},
     "output_type": "display_data"
    }
   ],
   "source": [
    "## ANalsyzing Literacy_Average\n",
    "sns.distplot(data.Literacy_Average)\n",
    "## Normal distribution"
   ]
  },
  {
   "cell_type": "code",
   "execution_count": null,
   "metadata": {},
   "outputs": [],
   "source": []
  },
  {
   "cell_type": "code",
   "execution_count": null,
   "metadata": {},
   "outputs": [],
   "source": []
  },
  {
   "cell_type": "markdown",
   "metadata": {},
   "source": [
    "### Sex_Ratio_Urban"
   ]
  },
  {
   "cell_type": "code",
   "execution_count": 56,
   "metadata": {},
   "outputs": [
    {
     "name": "stdout",
     "output_type": "stream",
     "text": [
      "934.3513513513514 is the Average Sex_Ratio_Urban \n"
     ]
    }
   ],
   "source": [
    "avg = data['Sex_Ratio_Urban'].mean()\n",
    "print(str(avg) + \" is the Average Sex_Ratio_Urban \")"
   ]
  },
  {
   "cell_type": "code",
   "execution_count": 57,
   "metadata": {},
   "outputs": [
    {
     "data": {
      "text/plain": [
       "103713"
      ]
     },
     "execution_count": 57,
     "metadata": {},
     "output_type": "execute_result"
    }
   ],
   "source": [
    "total_Sex_Ratio_Urban=data['Sex_Ratio_Urban'].sum()\n",
    "total_Sex_Ratio_Urban   "
   ]
  },
  {
   "cell_type": "code",
   "execution_count": 58,
   "metadata": {},
   "outputs": [
    {
     "data": {
      "text/html": [
       "<div>\n",
       "<style scoped>\n",
       "    .dataframe tbody tr th:only-of-type {\n",
       "        vertical-align: middle;\n",
       "    }\n",
       "\n",
       "    .dataframe tbody tr th {\n",
       "        vertical-align: top;\n",
       "    }\n",
       "\n",
       "    .dataframe thead th {\n",
       "        text-align: right;\n",
       "    }\n",
       "</style>\n",
       "<table border=\"1\" class=\"dataframe\">\n",
       "  <thead>\n",
       "    <tr style=\"text-align: right;\">\n",
       "      <th></th>\n",
       "      <th>State</th>\n",
       "      <th>Year</th>\n",
       "      <th>Literacy_M</th>\n",
       "      <th>Literacy_F</th>\n",
       "      <th>Literacy_Average</th>\n",
       "      <th>Sex_Ratio_Urban</th>\n",
       "      <th>Sex_Ratio_Rural</th>\n",
       "    </tr>\n",
       "  </thead>\n",
       "  <tbody>\n",
       "    <tr>\n",
       "      <th>0</th>\n",
       "      <td>Jammu and Kashmir</td>\n",
       "      <td>2019</td>\n",
       "      <td>76.8</td>\n",
       "      <td>56.4</td>\n",
       "      <td>66.60</td>\n",
       "      <td>840</td>\n",
       "      <td>908</td>\n",
       "    </tr>\n",
       "    <tr>\n",
       "      <th>6</th>\n",
       "      <td>Delhi</td>\n",
       "      <td>2019</td>\n",
       "      <td>90.9</td>\n",
       "      <td>80.8</td>\n",
       "      <td>85.85</td>\n",
       "      <td>847</td>\n",
       "      <td>867</td>\n",
       "    </tr>\n",
       "    <tr>\n",
       "      <th>37</th>\n",
       "      <td>Jammu and Kashmir</td>\n",
       "      <td>2020</td>\n",
       "      <td>77.2</td>\n",
       "      <td>56.7</td>\n",
       "      <td>66.95</td>\n",
       "      <td>849</td>\n",
       "      <td>910</td>\n",
       "    </tr>\n",
       "    <tr>\n",
       "      <th>74</th>\n",
       "      <td>Jammu and Kashmir</td>\n",
       "      <td>2021</td>\n",
       "      <td>77.5</td>\n",
       "      <td>57.0</td>\n",
       "      <td>67.25</td>\n",
       "      <td>852</td>\n",
       "      <td>912</td>\n",
       "    </tr>\n",
       "    <tr>\n",
       "      <th>1</th>\n",
       "      <td>Himachal Pradesh</td>\n",
       "      <td>2019</td>\n",
       "      <td>89.5</td>\n",
       "      <td>75.9</td>\n",
       "      <td>82.70</td>\n",
       "      <td>853</td>\n",
       "      <td>986</td>\n",
       "    </tr>\n",
       "  </tbody>\n",
       "</table>\n",
       "</div>"
      ],
      "text/plain": [
       "                State  Year  Literacy_M  Literacy_F  Literacy_Average  \\\n",
       "0   Jammu and Kashmir  2019        76.8        56.4             66.60   \n",
       "6               Delhi  2019        90.9        80.8             85.85   \n",
       "37  Jammu and Kashmir  2020        77.2        56.7             66.95   \n",
       "74  Jammu and Kashmir  2021        77.5        57.0             67.25   \n",
       "1    Himachal Pradesh  2019        89.5        75.9             82.70   \n",
       "\n",
       "    Sex_Ratio_Urban  Sex_Ratio_Rural  \n",
       "0               840              908  \n",
       "6               847              867  \n",
       "37              849              910  \n",
       "74              852              912  \n",
       "1               853              986  "
      ]
     },
     "execution_count": 58,
     "metadata": {},
     "output_type": "execute_result"
    }
   ],
   "source": [
    "#lowest Sex_Ratio_Urban  for states\n",
    "data.sort_values(by = 'Sex_Ratio_Urban' , ascending = True).head()"
   ]
  },
  {
   "cell_type": "code",
   "execution_count": 59,
   "metadata": {},
   "outputs": [
    {
     "data": {
      "text/html": [
       "<div>\n",
       "<style scoped>\n",
       "    .dataframe tbody tr th:only-of-type {\n",
       "        vertical-align: middle;\n",
       "    }\n",
       "\n",
       "    .dataframe tbody tr th {\n",
       "        vertical-align: top;\n",
       "    }\n",
       "\n",
       "    .dataframe thead th {\n",
       "        text-align: right;\n",
       "    }\n",
       "</style>\n",
       "<table border=\"1\" class=\"dataframe\">\n",
       "  <thead>\n",
       "    <tr style=\"text-align: right;\">\n",
       "      <th></th>\n",
       "      <th>State</th>\n",
       "      <th>Year</th>\n",
       "      <th>Literacy_M</th>\n",
       "      <th>Literacy_F</th>\n",
       "      <th>Literacy_Average</th>\n",
       "      <th>Sex_Ratio_Urban</th>\n",
       "      <th>Sex_Ratio_Rural</th>\n",
       "    </tr>\n",
       "  </thead>\n",
       "  <tbody>\n",
       "    <tr>\n",
       "      <th>104</th>\n",
       "      <td>Kerala</td>\n",
       "      <td>2021</td>\n",
       "      <td>96.9</td>\n",
       "      <td>92.6</td>\n",
       "      <td>94.75</td>\n",
       "      <td>1091</td>\n",
       "      <td>1079</td>\n",
       "    </tr>\n",
       "    <tr>\n",
       "      <th>67</th>\n",
       "      <td>Kerala</td>\n",
       "      <td>2020</td>\n",
       "      <td>96.6</td>\n",
       "      <td>92.4</td>\n",
       "      <td>94.50</td>\n",
       "      <td>1091</td>\n",
       "      <td>1079</td>\n",
       "    </tr>\n",
       "    <tr>\n",
       "      <th>30</th>\n",
       "      <td>Kerala</td>\n",
       "      <td>2019</td>\n",
       "      <td>96.1</td>\n",
       "      <td>92.1</td>\n",
       "      <td>94.10</td>\n",
       "      <td>1091</td>\n",
       "      <td>1078</td>\n",
       "    </tr>\n",
       "    <tr>\n",
       "      <th>106</th>\n",
       "      <td>Puducherry</td>\n",
       "      <td>2021</td>\n",
       "      <td>92.1</td>\n",
       "      <td>81.7</td>\n",
       "      <td>86.90</td>\n",
       "      <td>1040</td>\n",
       "      <td>1051</td>\n",
       "    </tr>\n",
       "    <tr>\n",
       "      <th>69</th>\n",
       "      <td>Puducherry</td>\n",
       "      <td>2020</td>\n",
       "      <td>91.7</td>\n",
       "      <td>81.2</td>\n",
       "      <td>86.45</td>\n",
       "      <td>1035</td>\n",
       "      <td>1047</td>\n",
       "    </tr>\n",
       "  </tbody>\n",
       "</table>\n",
       "</div>"
      ],
      "text/plain": [
       "          State  Year  Literacy_M  Literacy_F  Literacy_Average  \\\n",
       "104      Kerala  2021        96.9        92.6             94.75   \n",
       "67       Kerala  2020        96.6        92.4             94.50   \n",
       "30       Kerala  2019        96.1        92.1             94.10   \n",
       "106  Puducherry  2021        92.1        81.7             86.90   \n",
       "69   Puducherry  2020        91.7        81.2             86.45   \n",
       "\n",
       "     Sex_Ratio_Urban  Sex_Ratio_Rural  \n",
       "104             1091             1079  \n",
       "67              1091             1079  \n",
       "30              1091             1078  \n",
       "106             1040             1051  \n",
       "69              1035             1047  "
      ]
     },
     "execution_count": 59,
     "metadata": {},
     "output_type": "execute_result"
    }
   ],
   "source": [
    "#Highest Sex_Ratio_Urban for states\n",
    "data.sort_values(by = 'Sex_Ratio_Urban' , ascending = False).head()"
   ]
  },
  {
   "cell_type": "code",
   "execution_count": 60,
   "metadata": {},
   "outputs": [
    {
     "data": {
      "text/plain": [
       "<AxesSubplot:xlabel='Sex_Ratio_Urban', ylabel='Density'>"
      ]
     },
     "execution_count": 60,
     "metadata": {},
     "output_type": "execute_result"
    },
    {
     "data": {
      "image/png": "[encoded data removed]",
      "text/plain": [
       "<Figure size 600x400 with 1 Axes>"
      ]
     },
     "metadata": {},
     "output_type": "display_data"
    }
   ],
   "source": [
    "## ANalsyzing Sex_Ratio_Urban\n",
    "sns.distplot(data.Sex_Ratio_Urban)\n",
    "## Normal distribution"
   ]
  },
  {
   "cell_type": "code",
   "execution_count": null,
   "metadata": {},
   "outputs": [],
   "source": []
  },
  {
   "cell_type": "markdown",
   "metadata": {},
   "source": [
    "### Sex_Ratio_Rural"
   ]
  },
  {
   "cell_type": "code",
   "execution_count": 61,
   "metadata": {},
   "outputs": [
    {
     "name": "stdout",
     "output_type": "stream",
     "text": [
      "940.7297297297297 is the Average Sex_Ratio_Rural \n"
     ]
    }
   ],
   "source": [
    "avg = data['Sex_Ratio_Rural'].mean()\n",
    "print(str(avg) + \" is the Average Sex_Ratio_Rural \")"
   ]
  },
  {
   "cell_type": "code",
   "execution_count": 62,
   "metadata": {},
   "outputs": [
    {
     "data": {
      "text/plain": [
       "104421"
      ]
     },
     "execution_count": 62,
     "metadata": {},
     "output_type": "execute_result"
    }
   ],
   "source": [
    "total_Sex_Ratio_Rural=data['Sex_Ratio_Rural'].sum()\n",
    "total_Sex_Ratio_Rural   "
   ]
  },
  {
   "cell_type": "code",
   "execution_count": 63,
   "metadata": {
    "scrolled": true
   },
   "outputs": [
    {
     "data": {
      "text/html": [
       "<div>\n",
       "<style scoped>\n",
       "    .dataframe tbody tr th:only-of-type {\n",
       "        vertical-align: middle;\n",
       "    }\n",
       "\n",
       "    .dataframe tbody tr th {\n",
       "        vertical-align: top;\n",
       "    }\n",
       "\n",
       "    .dataframe thead th {\n",
       "        text-align: right;\n",
       "    }\n",
       "</style>\n",
       "<table border=\"1\" class=\"dataframe\">\n",
       "  <thead>\n",
       "    <tr style=\"text-align: right;\">\n",
       "      <th></th>\n",
       "      <th>State</th>\n",
       "      <th>Year</th>\n",
       "      <th>Literacy_M</th>\n",
       "      <th>Literacy_F</th>\n",
       "      <th>Literacy_Average</th>\n",
       "      <th>Sex_Ratio_Urban</th>\n",
       "      <th>Sex_Ratio_Rural</th>\n",
       "    </tr>\n",
       "  </thead>\n",
       "  <tbody>\n",
       "    <tr>\n",
       "      <th>24</th>\n",
       "      <td>Daman and Diu</td>\n",
       "      <td>2019</td>\n",
       "      <td>91.5</td>\n",
       "      <td>79.5</td>\n",
       "      <td>85.50</td>\n",
       "      <td>867</td>\n",
       "      <td>550</td>\n",
       "    </tr>\n",
       "    <tr>\n",
       "      <th>61</th>\n",
       "      <td>Daman and Diu</td>\n",
       "      <td>2020</td>\n",
       "      <td>92.1</td>\n",
       "      <td>80.1</td>\n",
       "      <td>86.10</td>\n",
       "      <td>873</td>\n",
       "      <td>555</td>\n",
       "    </tr>\n",
       "    <tr>\n",
       "      <th>98</th>\n",
       "      <td>Daman and Diu</td>\n",
       "      <td>2021</td>\n",
       "      <td>92.7</td>\n",
       "      <td>80.7</td>\n",
       "      <td>86.70</td>\n",
       "      <td>877</td>\n",
       "      <td>559</td>\n",
       "    </tr>\n",
       "    <tr>\n",
       "      <th>25</th>\n",
       "      <td>Dadra and Nagar Haveli</td>\n",
       "      <td>2019</td>\n",
       "      <td>85.2</td>\n",
       "      <td>64.3</td>\n",
       "      <td>74.75</td>\n",
       "      <td>863</td>\n",
       "      <td>684</td>\n",
       "    </tr>\n",
       "    <tr>\n",
       "      <th>62</th>\n",
       "      <td>Dadra and Nagar Haveli</td>\n",
       "      <td>2020</td>\n",
       "      <td>85.7</td>\n",
       "      <td>65.1</td>\n",
       "      <td>75.40</td>\n",
       "      <td>867</td>\n",
       "      <td>689</td>\n",
       "    </tr>\n",
       "  </tbody>\n",
       "</table>\n",
       "</div>"
      ],
      "text/plain": [
       "                     State  Year  Literacy_M  Literacy_F  Literacy_Average  \\\n",
       "24           Daman and Diu  2019        91.5        79.5             85.50   \n",
       "61           Daman and Diu  2020        92.1        80.1             86.10   \n",
       "98           Daman and Diu  2021        92.7        80.7             86.70   \n",
       "25  Dadra and Nagar Haveli  2019        85.2        64.3             74.75   \n",
       "62  Dadra and Nagar Haveli  2020        85.7        65.1             75.40   \n",
       "\n",
       "    Sex_Ratio_Urban  Sex_Ratio_Rural  \n",
       "24              867              550  \n",
       "61              873              555  \n",
       "98              877              559  \n",
       "25              863              684  \n",
       "62              867              689  "
      ]
     },
     "execution_count": 63,
     "metadata": {},
     "output_type": "execute_result"
    }
   ],
   "source": [
    "#lowest Sex_Ratio_Rural  for states\n",
    "data.sort_values(by = 'Sex_Ratio_Rural' , ascending = True).head()"
   ]
  },
  {
   "cell_type": "code",
   "execution_count": 64,
   "metadata": {},
   "outputs": [
    {
     "data": {
      "text/html": [
       "<div>\n",
       "<style scoped>\n",
       "    .dataframe tbody tr th:only-of-type {\n",
       "        vertical-align: middle;\n",
       "    }\n",
       "\n",
       "    .dataframe tbody tr th {\n",
       "        vertical-align: top;\n",
       "    }\n",
       "\n",
       "    .dataframe thead th {\n",
       "        text-align: right;\n",
       "    }\n",
       "</style>\n",
       "<table border=\"1\" class=\"dataframe\">\n",
       "  <thead>\n",
       "    <tr style=\"text-align: right;\">\n",
       "      <th></th>\n",
       "      <th>State</th>\n",
       "      <th>Year</th>\n",
       "      <th>Literacy_M</th>\n",
       "      <th>Literacy_F</th>\n",
       "      <th>Literacy_Average</th>\n",
       "      <th>Sex_Ratio_Urban</th>\n",
       "      <th>Sex_Ratio_Rural</th>\n",
       "    </tr>\n",
       "  </thead>\n",
       "  <tbody>\n",
       "    <tr>\n",
       "      <th>67</th>\n",
       "      <td>Kerala</td>\n",
       "      <td>2020</td>\n",
       "      <td>96.6</td>\n",
       "      <td>92.4</td>\n",
       "      <td>94.50</td>\n",
       "      <td>1091</td>\n",
       "      <td>1079</td>\n",
       "    </tr>\n",
       "    <tr>\n",
       "      <th>104</th>\n",
       "      <td>Kerala</td>\n",
       "      <td>2021</td>\n",
       "      <td>96.9</td>\n",
       "      <td>92.6</td>\n",
       "      <td>94.75</td>\n",
       "      <td>1091</td>\n",
       "      <td>1079</td>\n",
       "    </tr>\n",
       "    <tr>\n",
       "      <th>30</th>\n",
       "      <td>Kerala</td>\n",
       "      <td>2019</td>\n",
       "      <td>96.1</td>\n",
       "      <td>92.1</td>\n",
       "      <td>94.10</td>\n",
       "      <td>1091</td>\n",
       "      <td>1078</td>\n",
       "    </tr>\n",
       "    <tr>\n",
       "      <th>106</th>\n",
       "      <td>Puducherry</td>\n",
       "      <td>2021</td>\n",
       "      <td>92.1</td>\n",
       "      <td>81.7</td>\n",
       "      <td>86.90</td>\n",
       "      <td>1040</td>\n",
       "      <td>1051</td>\n",
       "    </tr>\n",
       "    <tr>\n",
       "      <th>69</th>\n",
       "      <td>Puducherry</td>\n",
       "      <td>2020</td>\n",
       "      <td>91.7</td>\n",
       "      <td>81.2</td>\n",
       "      <td>86.45</td>\n",
       "      <td>1035</td>\n",
       "      <td>1047</td>\n",
       "    </tr>\n",
       "  </tbody>\n",
       "</table>\n",
       "</div>"
      ],
      "text/plain": [
       "          State  Year  Literacy_M  Literacy_F  Literacy_Average  \\\n",
       "67       Kerala  2020        96.6        92.4             94.50   \n",
       "104      Kerala  2021        96.9        92.6             94.75   \n",
       "30       Kerala  2019        96.1        92.1             94.10   \n",
       "106  Puducherry  2021        92.1        81.7             86.90   \n",
       "69   Puducherry  2020        91.7        81.2             86.45   \n",
       "\n",
       "     Sex_Ratio_Urban  Sex_Ratio_Rural  \n",
       "67              1091             1079  \n",
       "104             1091             1079  \n",
       "30              1091             1078  \n",
       "106             1040             1051  \n",
       "69              1035             1047  "
      ]
     },
     "execution_count": 64,
     "metadata": {},
     "output_type": "execute_result"
    }
   ],
   "source": [
    "#Highest Sex_Ratio_Rural for states\n",
    "data.sort_values(by = 'Sex_Ratio_Rural' , ascending = False).head()"
   ]
  },
  {
   "cell_type": "code",
   "execution_count": 65,
   "metadata": {},
   "outputs": [
    {
     "data": {
      "text/plain": [
       "<AxesSubplot:xlabel='Sex_Ratio_Rural', ylabel='Density'>"
      ]
     },
     "execution_count": 65,
     "metadata": {},
     "output_type": "execute_result"
    },
    {
     "data": {
      "image/png": "[encoded data removed]",
      "text/plain": [
       "<Figure size 600x400 with 1 Axes>"
      ]
     },
     "metadata": {},
     "output_type": "display_data"
    }
   ],
   "source": [
    "## ANalsyzing Sex_Ratio_Rural\n",
    "sns.distplot(data.Sex_Ratio_Rural)\n",
    "## left skewed distribution"
   ]
  },
  {
   "cell_type": "code",
   "execution_count": null,
   "metadata": {},
   "outputs": [],
   "source": []
  },
  {
   "cell_type": "markdown",
   "metadata": {},
   "source": [
    "### State"
   ]
  },
  {
   "cell_type": "code",
   "execution_count": 66,
   "metadata": {},
   "outputs": [
    {
     "data": {
      "text/plain": [
       "State\n",
       "Kerala                         289.6\n",
       "Lakshadweep                    288.6\n",
       "Mizoram                        281.1\n",
       "Goa                            278.7\n",
       "Daman and Diu                  276.3\n",
       "Tripura                        275.5\n",
       "Puducherry                     275.1\n",
       "Delhi                          274.1\n",
       "Andaman and Nicobar Islands    272.1\n",
       "Himachal Pradesh               270.0\n",
       "Maharashtra                    266.4\n",
       "Tamil Nadu                     261.4\n",
       "Sikkim                         260.7\n",
       "Ladakh                         258.5\n",
       "Gujarat                        258.3\n",
       "Dadra and Nagar Haveli         257.1\n",
       "Haryana                        253.4\n",
       "Uttarakhand                    253.3\n",
       "Manipur                        251.8\n",
       "Nagaland                       249.6\n",
       "Karnataka                      248.4\n",
       "West Bengal                    246.1\n",
       "Odisha                         245.8\n",
       "Punjab                         242.4\n",
       "Chhattisgarh                   241.8\n",
       "Chandigarh                     241.8\n",
       "Rajasthan                      238.5\n",
       "Madhya Pradesh                 237.1\n",
       "Assam                          234.3\n",
       "Uttar Pradesh                  233.2\n",
       "Jammu and Kashmir              231.5\n",
       "Jharkhand                      231.2\n",
       "Telangana                      230.1\n",
       "Meghalaya                      229.2\n",
       "Andhra Pradesh                 226.1\n",
       "Arunachal Pradesh              218.7\n",
       "Bihar                          214.9\n",
       "Name: Literacy_M, dtype: float64"
      ]
     },
     "execution_count": 66,
     "metadata": {},
     "output_type": "execute_result"
    }
   ],
   "source": [
    "statewise_gst=data.groupby('State').Literacy_M.sum() \n",
    "statewise_gst.sort_values(ascending=False)"
   ]
  },
  {
   "cell_type": "code",
   "execution_count": 67,
   "metadata": {},
   "outputs": [
    {
     "data": {
      "text/plain": [
       "State\n",
       "Kerala                         96.533333\n",
       "Lakshadweep                    96.200000\n",
       "Mizoram                        93.700000\n",
       "Goa                            92.900000\n",
       "Daman and Diu                  92.100000\n",
       "Tripura                        91.833333\n",
       "Puducherry                     91.700000\n",
       "Delhi                          91.366667\n",
       "Andaman and Nicobar Islands    90.700000\n",
       "Himachal Pradesh               90.000000\n",
       "Maharashtra                    88.800000\n",
       "Tamil Nadu                     87.133333\n",
       "Sikkim                         86.900000\n",
       "Ladakh                         86.166667\n",
       "Gujarat                        86.100000\n",
       "Dadra and Nagar Haveli         85.700000\n",
       "Haryana                        84.466667\n",
       "Uttarakhand                    84.433333\n",
       "Manipur                        83.933333\n",
       "Nagaland                       83.200000\n",
       "Karnataka                      82.800000\n",
       "West Bengal                    82.033333\n",
       "Odisha                         81.933333\n",
       "Punjab                         80.800000\n",
       "Chhattisgarh                   80.600000\n",
       "Chandigarh                     80.600000\n",
       "Rajasthan                      79.500000\n",
       "Madhya Pradesh                 79.033333\n",
       "Assam                          78.100000\n",
       "Uttar Pradesh                  77.733333\n",
       "Jammu and Kashmir              77.166667\n",
       "Jharkhand                      77.066667\n",
       "Telangana                      76.700000\n",
       "Meghalaya                      76.400000\n",
       "Andhra Pradesh                 75.366667\n",
       "Arunachal Pradesh              72.900000\n",
       "Bihar                          71.633333\n",
       "Name: Literacy_M, dtype: float64"
      ]
     },
     "execution_count": 67,
     "metadata": {},
     "output_type": "execute_result"
    }
   ],
   "source": [
    "statewise_gst=data.groupby('State').Literacy_M.mean() \n",
    "statewise_gst.sort_values(ascending=False)"
   ]
  },
  {
   "cell_type": "code",
   "execution_count": 68,
   "metadata": {},
   "outputs": [
    {
     "data": {
      "text/plain": [
       "State\n",
       "Kerala                         277.1\n",
       "Mizoram                        269.0\n",
       "Lakshadweep                    264.9\n",
       "Goa                            255.3\n",
       "Tripura                        249.4\n",
       "Andaman and Nicobar Islands    248.2\n",
       "Delhi                          243.9\n",
       "Puducherry                     243.6\n",
       "Daman and Diu                  240.3\n",
       "Nagaland                       229.6\n",
       "Himachal Pradesh               229.3\n",
       "Maharashtra                    228.7\n",
       "Sikkim                         227.8\n",
       "Tamil Nadu                     221.1\n",
       "Meghalaya                      219.4\n",
       "Punjab                         213.0\n",
       "West Bengal                    212.7\n",
       "Manipur                        212.0\n",
       "Gujarat                        210.3\n",
       "Ladakh                         210.3\n",
       "Karnataka                      205.4\n",
       "Assam                          200.3\n",
       "Haryana                        198.6\n",
       "Uttarakhand                    198.4\n",
       "Dadra and Nagar Haveli         195.1\n",
       "Odisha                         193.4\n",
       "Telangana                      186.1\n",
       "Chandigarh                     182.0\n",
       "Chhattisgarh                   182.0\n",
       "Madhya Pradesh                 179.2\n",
       "Andhra Pradesh                 179.2\n",
       "Arunachal Pradesh              174.3\n",
       "Uttar Pradesh                  172.8\n",
       "Jammu and Kashmir              170.1\n",
       "Jharkhand                      167.2\n",
       "Rajasthan                      157.7\n",
       "Bihar                          156.0\n",
       "Name: Literacy_F, dtype: float64"
      ]
     },
     "execution_count": 68,
     "metadata": {},
     "output_type": "execute_result"
    }
   ],
   "source": [
    "statewise_gst=data.groupby('State').Literacy_F.sum() \n",
    "statewise_gst.sort_values(ascending=False)"
   ]
  },
  {
   "cell_type": "code",
   "execution_count": 69,
   "metadata": {},
   "outputs": [
    {
     "data": {
      "text/plain": [
       "State\n",
       "Kerala                         92.366667\n",
       "Mizoram                        89.666667\n",
       "Lakshadweep                    88.300000\n",
       "Goa                            85.100000\n",
       "Tripura                        83.133333\n",
       "Andaman and Nicobar Islands    82.733333\n",
       "Delhi                          81.300000\n",
       "Puducherry                     81.200000\n",
       "Daman and Diu                  80.100000\n",
       "Nagaland                       76.533333\n",
       "Himachal Pradesh               76.433333\n",
       "Maharashtra                    76.233333\n",
       "Sikkim                         75.933333\n",
       "Tamil Nadu                     73.700000\n",
       "Meghalaya                      73.133333\n",
       "Punjab                         71.000000\n",
       "West Bengal                    70.900000\n",
       "Manipur                        70.666667\n",
       "Gujarat                        70.100000\n",
       "Ladakh                         70.100000\n",
       "Karnataka                      68.466667\n",
       "Assam                          66.766667\n",
       "Haryana                        66.200000\n",
       "Uttarakhand                    66.133333\n",
       "Dadra and Nagar Haveli         65.033333\n",
       "Odisha                         64.466667\n",
       "Telangana                      62.033333\n",
       "Chandigarh                     60.666667\n",
       "Chhattisgarh                   60.666667\n",
       "Madhya Pradesh                 59.733333\n",
       "Andhra Pradesh                 59.733333\n",
       "Arunachal Pradesh              58.100000\n",
       "Uttar Pradesh                  57.600000\n",
       "Jammu and Kashmir              56.700000\n",
       "Jharkhand                      55.733333\n",
       "Rajasthan                      52.566667\n",
       "Bihar                          52.000000\n",
       "Name: Literacy_F, dtype: float64"
      ]
     },
     "execution_count": 69,
     "metadata": {},
     "output_type": "execute_result"
    }
   ],
   "source": [
    "statewise_gst=data.groupby('State').Literacy_F.mean() \n",
    "statewise_gst.sort_values(ascending=False)"
   ]
  },
  {
   "cell_type": "code",
   "execution_count": 70,
   "metadata": {},
   "outputs": [
    {
     "data": {
      "text/plain": [
       "State\n",
       "Kerala                         283.35\n",
       "Lakshadweep                    276.75\n",
       "Mizoram                        275.05\n",
       "Goa                            267.00\n",
       "Tripura                        262.45\n",
       "Andaman and Nicobar Islands    260.15\n",
       "Puducherry                     259.35\n",
       "Delhi                          259.00\n",
       "Daman and Diu                  258.30\n",
       "Himachal Pradesh               249.65\n",
       "Maharashtra                    247.55\n",
       "Sikkim                         244.25\n",
       "Tamil Nadu                     241.25\n",
       "Nagaland                       239.60\n",
       "Ladakh                         234.40\n",
       "Gujarat                        234.30\n",
       "Manipur                        231.90\n",
       "West Bengal                    229.40\n",
       "Punjab                         227.70\n",
       "Karnataka                      226.90\n",
       "Dadra and Nagar Haveli         226.10\n",
       "Haryana                        226.00\n",
       "Uttarakhand                    225.85\n",
       "Meghalaya                      224.30\n",
       "Odisha                         219.60\n",
       "Assam                          217.30\n",
       "Chhattisgarh                   211.90\n",
       "Chandigarh                     211.90\n",
       "Madhya Pradesh                 208.15\n",
       "Telangana                      208.10\n",
       "Uttar Pradesh                  203.00\n",
       "Andhra Pradesh                 202.65\n",
       "Jammu and Kashmir              200.80\n",
       "Jharkhand                      199.20\n",
       "Rajasthan                      198.10\n",
       "Arunachal Pradesh              196.50\n",
       "Bihar                          185.45\n",
       "Name: Literacy_Average, dtype: float64"
      ]
     },
     "execution_count": 70,
     "metadata": {},
     "output_type": "execute_result"
    }
   ],
   "source": [
    "statewise_gst=data.groupby('State').Literacy_Average.sum() \n",
    "statewise_gst.sort_values(ascending=False)"
   ]
  },
  {
   "cell_type": "code",
   "execution_count": 71,
   "metadata": {},
   "outputs": [
    {
     "data": {
      "text/plain": [
       "State\n",
       "Kerala                         94.450000\n",
       "Lakshadweep                    92.250000\n",
       "Mizoram                        91.683333\n",
       "Goa                            89.000000\n",
       "Tripura                        87.483333\n",
       "Andaman and Nicobar Islands    86.716667\n",
       "Puducherry                     86.450000\n",
       "Delhi                          86.333333\n",
       "Daman and Diu                  86.100000\n",
       "Himachal Pradesh               83.216667\n",
       "Maharashtra                    82.516667\n",
       "Sikkim                         81.416667\n",
       "Tamil Nadu                     80.416667\n",
       "Nagaland                       79.866667\n",
       "Ladakh                         78.133333\n",
       "Gujarat                        78.100000\n",
       "Manipur                        77.300000\n",
       "West Bengal                    76.466667\n",
       "Punjab                         75.900000\n",
       "Karnataka                      75.633333\n",
       "Dadra and Nagar Haveli         75.366667\n",
       "Haryana                        75.333333\n",
       "Uttarakhand                    75.283333\n",
       "Meghalaya                      74.766667\n",
       "Odisha                         73.200000\n",
       "Assam                          72.433333\n",
       "Chhattisgarh                   70.633333\n",
       "Chandigarh                     70.633333\n",
       "Madhya Pradesh                 69.383333\n",
       "Telangana                      69.366667\n",
       "Uttar Pradesh                  67.666667\n",
       "Andhra Pradesh                 67.550000\n",
       "Jammu and Kashmir              66.933333\n",
       "Jharkhand                      66.400000\n",
       "Rajasthan                      66.033333\n",
       "Arunachal Pradesh              65.500000\n",
       "Bihar                          61.816667\n",
       "Name: Literacy_Average, dtype: float64"
      ]
     },
     "execution_count": 71,
     "metadata": {},
     "output_type": "execute_result"
    }
   ],
   "source": [
    "statewise_gst=data.groupby('State').Literacy_Average.mean() \n",
    "statewise_gst.sort_values(ascending=False)"
   ]
  },
  {
   "cell_type": "code",
   "execution_count": 72,
   "metadata": {},
   "outputs": [
    {
     "data": {
      "text/plain": [
       "State\n",
       "Kerala                         3273\n",
       "Puducherry                     3104\n",
       "Manipur                        3078\n",
       "Meghalaya                      3003\n",
       "Tamil Nadu                     3000\n",
       "Mizoram                        2994\n",
       "Telangana                      2990\n",
       "Andhra Pradesh                 2966\n",
       "Tripura                        2926\n",
       "Ladakh                         2901\n",
       "Karnataka                      2895\n",
       "Chandigarh                     2876\n",
       "Chhattisgarh                   2876\n",
       "Lakshadweep                    2876\n",
       "Goa                            2866\n",
       "Assam                          2849\n",
       "West Bengal                    2840\n",
       "Odisha                         2802\n",
       "Madhya Pradesh                 2761\n",
       "Rajasthan                      2750\n",
       "Sikkim                         2746\n",
       "Jharkhand                      2736\n",
       "Nagaland                       2730\n",
       "Maharashtra                    2719\n",
       "Bihar                          2694\n",
       "Arunachal Pradesh              2683\n",
       "Uttar Pradesh                  2679\n",
       "Uttarakhand                    2669\n",
       "Gujarat                        2650\n",
       "Punjab                         2635\n",
       "Andaman and Nicobar Islands    2631\n",
       "Haryana                        2630\n",
       "Daman and Diu                  2617\n",
       "Dadra and Nagar Haveli         2603\n",
       "Himachal Pradesh               2566\n",
       "Delhi                          2558\n",
       "Jammu and Kashmir              2541\n",
       "Name: Sex_Ratio_Urban, dtype: int64"
      ]
     },
     "execution_count": 72,
     "metadata": {},
     "output_type": "execute_result"
    }
   ],
   "source": [
    "statewise_gst=data.groupby('State').Sex_Ratio_Urban.sum() \n",
    "statewise_gst.sort_values(ascending=False)"
   ]
  },
  {
   "cell_type": "code",
   "execution_count": 73,
   "metadata": {},
   "outputs": [
    {
     "data": {
      "text/plain": [
       "State\n",
       "Kerala                         1091.000000\n",
       "Puducherry                     1034.666667\n",
       "Manipur                        1026.000000\n",
       "Meghalaya                      1001.000000\n",
       "Tamil Nadu                     1000.000000\n",
       "Mizoram                         998.000000\n",
       "Telangana                       996.666667\n",
       "Andhra Pradesh                  988.666667\n",
       "Tripura                         975.333333\n",
       "Ladakh                          967.000000\n",
       "Karnataka                       965.000000\n",
       "Chandigarh                      958.666667\n",
       "Chhattisgarh                    958.666667\n",
       "Lakshadweep                     958.666667\n",
       "Goa                             955.333333\n",
       "Assam                           949.666667\n",
       "West Bengal                     946.666667\n",
       "Odisha                          934.000000\n",
       "Madhya Pradesh                  920.333333\n",
       "Rajasthan                       916.666667\n",
       "Sikkim                          915.333333\n",
       "Jharkhand                       912.000000\n",
       "Nagaland                        910.000000\n",
       "Maharashtra                     906.333333\n",
       "Bihar                           898.000000\n",
       "Arunachal Pradesh               894.333333\n",
       "Uttar Pradesh                   893.000000\n",
       "Uttarakhand                     889.666667\n",
       "Gujarat                         883.333333\n",
       "Punjab                          878.333333\n",
       "Andaman and Nicobar Islands     877.000000\n",
       "Haryana                         876.666667\n",
       "Daman and Diu                   872.333333\n",
       "Dadra and Nagar Haveli          867.666667\n",
       "Himachal Pradesh                855.333333\n",
       "Delhi                           852.666667\n",
       "Jammu and Kashmir               847.000000\n",
       "Name: Sex_Ratio_Urban, dtype: float64"
      ]
     },
     "execution_count": 73,
     "metadata": {},
     "output_type": "execute_result"
    }
   ],
   "source": [
    "statewise_gst=data.groupby('State').Sex_Ratio_Urban.mean() \n",
    "statewise_gst.sort_values(ascending=False)"
   ]
  },
  {
   "cell_type": "code",
   "execution_count": 74,
   "metadata": {},
   "outputs": [
    {
     "data": {
      "text/plain": [
       "State\n",
       "Kerala                         3236\n",
       "Puducherry                     3141\n",
       "Goa                            3011\n",
       "Chandigarh                     3006\n",
       "Chhattisgarh                   3006\n",
       "Andhra Pradesh                 2988\n",
       "Tamil Nadu                     2983\n",
       "Odisha                         2969\n",
       "Himachal Pradesh               2962\n",
       "Meghalaya                      2960\n",
       "Ladakh                         2954\n",
       "Karnataka                      2942\n",
       "Jharkhand                      2921\n",
       "Uttarakhand                    2919\n",
       "Manipur                        2912\n",
       "Assam                          2888\n",
       "Tripura                        2869\n",
       "West Bengal                    2866\n",
       "Arunachal Pradesh              2865\n",
       "Maharashtra                    2864\n",
       "Mizoram                        2864\n",
       "Gujarat                        2849\n",
       "Lakshadweep                    2848\n",
       "Nagaland                       2826\n",
       "Madhya Pradesh                 2818\n",
       "Telangana                      2809\n",
       "Rajasthan                      2806\n",
       "Bihar                          2769\n",
       "Uttar Pradesh                  2758\n",
       "Jammu and Kashmir              2730\n",
       "Punjab                         2725\n",
       "Andaman and Nicobar Islands    2690\n",
       "Sikkim                         2657\n",
       "Haryana                        2657\n",
       "Delhi                          2621\n",
       "Dadra and Nagar Haveli         2068\n",
       "Daman and Diu                  1664\n",
       "Name: Sex_Ratio_Rural, dtype: int64"
      ]
     },
     "execution_count": 74,
     "metadata": {},
     "output_type": "execute_result"
    }
   ],
   "source": [
    "statewise_gst=data.groupby('State').Sex_Ratio_Rural.sum() \n",
    "statewise_gst.sort_values(ascending=False)"
   ]
  },
  {
   "cell_type": "code",
   "execution_count": 75,
   "metadata": {},
   "outputs": [
    {
     "data": {
      "text/plain": [
       "State\n",
       "Kerala                         1078.666667\n",
       "Puducherry                     1047.000000\n",
       "Goa                            1003.666667\n",
       "Chandigarh                     1002.000000\n",
       "Chhattisgarh                   1002.000000\n",
       "Andhra Pradesh                  996.000000\n",
       "Tamil Nadu                      994.333333\n",
       "Odisha                          989.666667\n",
       "Himachal Pradesh                987.333333\n",
       "Meghalaya                       986.666667\n",
       "Ladakh                          984.666667\n",
       "Karnataka                       980.666667\n",
       "Jharkhand                       973.666667\n",
       "Uttarakhand                     973.000000\n",
       "Manipur                         970.666667\n",
       "Assam                           962.666667\n",
       "Tripura                         956.333333\n",
       "West Bengal                     955.333333\n",
       "Arunachal Pradesh               955.000000\n",
       "Maharashtra                     954.666667\n",
       "Mizoram                         954.666667\n",
       "Gujarat                         949.666667\n",
       "Lakshadweep                     949.333333\n",
       "Nagaland                        942.000000\n",
       "Madhya Pradesh                  939.333333\n",
       "Telangana                       936.333333\n",
       "Rajasthan                       935.333333\n",
       "Bihar                           923.000000\n",
       "Uttar Pradesh                   919.333333\n",
       "Jammu and Kashmir               910.000000\n",
       "Punjab                          908.333333\n",
       "Andaman and Nicobar Islands     896.666667\n",
       "Sikkim                          885.666667\n",
       "Haryana                         885.666667\n",
       "Delhi                           873.666667\n",
       "Dadra and Nagar Haveli          689.333333\n",
       "Daman and Diu                   554.666667\n",
       "Name: Sex_Ratio_Rural, dtype: float64"
      ]
     },
     "execution_count": 75,
     "metadata": {},
     "output_type": "execute_result"
    }
   ],
   "source": [
    "statewise_gst=data.groupby('State').Sex_Ratio_Rural.mean() \n",
    "statewise_gst.sort_values(ascending=False)"
   ]
  },
  {
   "cell_type": "code",
   "execution_count": null,
   "metadata": {},
   "outputs": [],
   "source": []
  },
  {
   "cell_type": "markdown",
   "metadata": {},
   "source": [
    "### Year"
   ]
  },
  {
   "cell_type": "code",
   "execution_count": 76,
   "metadata": {
    "scrolled": true
   },
   "outputs": [
    {
     "data": {
      "text/plain": [
       "Year\n",
       "2019    3103.5\n",
       "2020    3107.9\n",
       "2021    3131.3\n",
       "Name: Literacy_M, dtype: float64"
      ]
     },
     "execution_count": 76,
     "metadata": {},
     "output_type": "execute_result"
    }
   ],
   "source": [
    "data.groupby('Year').Literacy_M.sum()"
   ]
  },
  {
   "cell_type": "code",
   "execution_count": 77,
   "metadata": {
    "scrolled": true
   },
   "outputs": [
    {
     "data": {
      "text/plain": [
       "Year\n",
       "2019    83.878378\n",
       "2020    83.997297\n",
       "2021    84.629730\n",
       "Name: Literacy_M, dtype: float64"
      ]
     },
     "execution_count": 77,
     "metadata": {},
     "output_type": "execute_result"
    }
   ],
   "source": [
    "data.groupby('Year').Literacy_M.mean()"
   ]
  },
  {
   "cell_type": "code",
   "execution_count": 78,
   "metadata": {},
   "outputs": [
    {
     "data": {
      "text/plain": [
       "Year\n",
       "2019    2590.1\n",
       "2020    2593.2\n",
       "2021    2620.4\n",
       "Name: Literacy_F, dtype: float64"
      ]
     },
     "execution_count": 78,
     "metadata": {},
     "output_type": "execute_result"
    }
   ],
   "source": [
    "data.groupby('Year').Literacy_F.sum()"
   ]
  },
  {
   "cell_type": "code",
   "execution_count": 79,
   "metadata": {},
   "outputs": [
    {
     "data": {
      "text/plain": [
       "Year\n",
       "2019    70.002703\n",
       "2020    70.086486\n",
       "2021    70.821622\n",
       "Name: Literacy_F, dtype: float64"
      ]
     },
     "execution_count": 79,
     "metadata": {},
     "output_type": "execute_result"
    }
   ],
   "source": [
    "data.groupby('Year').Literacy_F.mean()"
   ]
  },
  {
   "cell_type": "code",
   "execution_count": 80,
   "metadata": {},
   "outputs": [
    {
     "data": {
      "text/plain": [
       "Year\n",
       "2019    2846.80\n",
       "2020    2850.55\n",
       "2021    2875.85\n",
       "Name: Literacy_Average, dtype: float64"
      ]
     },
     "execution_count": 80,
     "metadata": {},
     "output_type": "execute_result"
    }
   ],
   "source": [
    "data.groupby('Year').Literacy_Average.sum()"
   ]
  },
  {
   "cell_type": "code",
   "execution_count": 81,
   "metadata": {},
   "outputs": [
    {
     "data": {
      "text/plain": [
       "Year\n",
       "2019    76.940541\n",
       "2020    77.041892\n",
       "2021    77.725676\n",
       "Name: Literacy_Average, dtype: float64"
      ]
     },
     "execution_count": 81,
     "metadata": {},
     "output_type": "execute_result"
    }
   ],
   "source": [
    "data.groupby('Year').Literacy_Average.mean()"
   ]
  },
  {
   "cell_type": "code",
   "execution_count": 82,
   "metadata": {},
   "outputs": [
    {
     "data": {
      "text/plain": [
       "Year\n",
       "2019    34466\n",
       "2020    34586\n",
       "2021    34661\n",
       "Name: Sex_Ratio_Urban, dtype: int64"
      ]
     },
     "execution_count": 82,
     "metadata": {},
     "output_type": "execute_result"
    }
   ],
   "source": [
    "data.groupby('Year').Sex_Ratio_Urban.sum()"
   ]
  },
  {
   "cell_type": "code",
   "execution_count": 83,
   "metadata": {},
   "outputs": [
    {
     "data": {
      "text/plain": [
       "Year\n",
       "2019    931.513514\n",
       "2020    934.756757\n",
       "2021    936.783784\n",
       "Name: Sex_Ratio_Urban, dtype: float64"
      ]
     },
     "execution_count": 83,
     "metadata": {},
     "output_type": "execute_result"
    }
   ],
   "source": [
    "data.groupby('Year').Sex_Ratio_Urban.mean()"
   ]
  },
  {
   "cell_type": "code",
   "execution_count": 84,
   "metadata": {},
   "outputs": [
    {
     "data": {
      "text/plain": [
       "Year\n",
       "2019    34735\n",
       "2020    34759\n",
       "2021    34927\n",
       "Name: Sex_Ratio_Rural, dtype: int64"
      ]
     },
     "execution_count": 84,
     "metadata": {},
     "output_type": "execute_result"
    }
   ],
   "source": [
    "data.groupby('Year').Sex_Ratio_Rural.sum()"
   ]
  },
  {
   "cell_type": "code",
   "execution_count": 85,
   "metadata": {},
   "outputs": [
    {
     "data": {
      "text/plain": [
       "Year\n",
       "2019    938.783784\n",
       "2020    939.432432\n",
       "2021    943.972973\n",
       "Name: Sex_Ratio_Rural, dtype: float64"
      ]
     },
     "execution_count": 85,
     "metadata": {},
     "output_type": "execute_result"
    }
   ],
   "source": [
    "data.groupby('Year').Sex_Ratio_Rural.mean()"
   ]
  },
  {
   "cell_type": "code",
   "execution_count": 86,
   "metadata": {
    "scrolled": false
   },
   "outputs": [
    {
     "data": {
      "text/plain": [
       "Index(['State', 'Year', 'Literacy_M', 'Literacy_F', 'Literacy_Average',\n",
       "       'Sex_Ratio_Urban', 'Sex_Ratio_Rural'],\n",
       "      dtype='object')"
      ]
     },
     "execution_count": 86,
     "metadata": {},
     "output_type": "execute_result"
    }
   ],
   "source": [
    "data.columns"
   ]
  },
  {
   "cell_type": "code",
   "execution_count": null,
   "metadata": {},
   "outputs": [],
   "source": [
    "data[(data['State'] == 'Maharashtra') &  (data['Year'] == '2021')]"
   ]
  }
 ],
 "metadata": {
  "kernelspec": {
   "display_name": "Python 3",
   "language": "python",
   "name": "python3"
  },
  "language_info": {
   "codemirror_mode": {
    "name": "ipython",
    "version": 3
   },
   "file_extension": ".py",
   "mimetype": "text/x-python",
   "name": "python",
   "nbconvert_exporter": "python",
   "pygments_lexer": "ipython3",
   "version": "3.7.4"
  }
 },
 "nbformat": 4,
 "nbformat_minor": 2
}
